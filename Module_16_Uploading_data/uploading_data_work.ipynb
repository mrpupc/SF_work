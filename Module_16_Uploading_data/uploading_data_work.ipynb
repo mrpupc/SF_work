{
 "cells": [
  {
   "cell_type": "code",
   "execution_count": 8,
   "metadata": {},
   "outputs": [],
   "source": [
    "import pandas as pd"
   ]
  },
  {
   "cell_type": "code",
   "execution_count": 9,
   "metadata": {},
   "outputs": [
    {
     "name": "stdout",
     "output_type": "stream",
     "text": [
      "Листы в файле: ['ratings', 'movies']\n"
     ]
    }
   ],
   "source": [
    "# Получение всех листов в файле\n",
    "excel_file = pd.ExcelFile('data/ratings_movies.xlsx')\n",
    "sheet_names = excel_file.sheet_names\n",
    "print(f\"Листы в файле: {sheet_names}\")"
   ]
  },
  {
   "cell_type": "code",
   "execution_count": 11,
   "metadata": {},
   "outputs": [
    {
     "name": "stdout",
     "output_type": "stream",
     "text": [
      "<class 'pandas.core.frame.DataFrame'>\n",
      "RangeIndex: 100836 entries, 0 to 100835\n",
      "Data columns (total 6 columns):\n",
      " #   Column     Non-Null Count   Dtype  \n",
      "---  ------     --------------   -----  \n",
      " 0   userId     100836 non-null  int64  \n",
      " 1   movieId    100836 non-null  int64  \n",
      " 2   rating     100836 non-null  float64\n",
      " 3   timestamp  100836 non-null  int64  \n",
      " 4   title      100836 non-null  object \n",
      " 5   genres     100836 non-null  object \n",
      "dtypes: float64(1), int64(3), object(2)\n",
      "memory usage: 4.6+ MB\n",
      "None\n"
     ]
    }
   ],
   "source": [
    "# Чтение данных с первого листа\n",
    "df_raitings = pd.read_excel(\n",
    "    'data/ratings_movies.xlsx',\n",
    "    sheet_name=sheet_names[0]\n",
    ")\n",
    "\n",
    "# Чтение данных со второго листа\n",
    "df_movies = pd.read_excel(\n",
    "    'data/ratings_movies.xlsx',\n",
    "    sheet_name=sheet_names[1]\n",
    ")\n",
    "merged_df = pd.merge(\n",
    "    df_raitings,\n",
    "    df_movies,\n",
    "    on='movieId'\n",
    ")\n",
    "print(merged_df.info())"
   ]
  }
 ],
 "metadata": {
  "kernelspec": {
   "display_name": "Python 3",
   "language": "python",
   "name": "python3"
  },
  "language_info": {
   "codemirror_mode": {
    "name": "ipython",
    "version": 3
   },
   "file_extension": ".py",
   "mimetype": "text/x-python",
   "name": "python",
   "nbconvert_exporter": "python",
   "pygments_lexer": "ipython3",
   "version": "3.13.1"
  }
 },
 "nbformat": 4,
 "nbformat_minor": 2
}
