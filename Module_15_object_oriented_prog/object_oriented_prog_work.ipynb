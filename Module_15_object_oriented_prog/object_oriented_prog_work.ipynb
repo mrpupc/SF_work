{
 "cells": [
  {
   "cell_type": "markdown",
   "metadata": {},
   "source": [
    "Определите пустой класс с именем DepartmentReport."
   ]
  },
  {
   "cell_type": "code",
   "execution_count": null,
   "metadata": {},
   "outputs": [],
   "source": [
    "class DepartmentReport():\n",
    "    pass"
   ]
  },
  {
   "cell_type": "markdown",
   "metadata": {},
   "source": [
    "Скопируйте определение DepartmentReport из предыдущего задания и создайте объект department_report по нему."
   ]
  },
  {
   "cell_type": "code",
   "execution_count": null,
   "metadata": {},
   "outputs": [],
   "source": [
    "class DepartmentReport():  \n",
    "    pass  \n",
    "  \n",
    "# создаём объект по классу  \n",
    "department_report  = DepartmentReport()"
   ]
  },
  {
   "cell_type": "markdown",
   "metadata": {},
   "source": [
    "Допишите определение класса DepartmentReport, который выводит отчёт по отделам компании. У него должны быть определены:\n",
    "\n",
    "свойство revenues — список, где мы храним значения выручки отделов;\n",
    "метод add_revenue(), который добавляет выручку одного отдела в список revenues. Если списка revenues еще не существует, метод должен его создавать (проверку наличия атрибута можно выполнить с помощью встроенной функции hasattr());\n",
    "\n",
    "метод average_revenue(), который возвращает среднюю выручку по всем отделам (считает среднее по списку revenues)."
   ]
  },
  {
   "cell_type": "code",
   "execution_count": null,
   "metadata": {},
   "outputs": [],
   "source": [
    "class DepartmentReport():\n",
    "       \n",
    "    def add_revenue(self, amount):\n",
    "        \"\"\"\n",
    "        Метод для добавления выручки отдела в список revenues.\n",
    "        Если атрибута revenues ещё не существует, метод должен создавать пустой список перед добавлением выручки.\n",
    "        \"\"\"\n",
    "        # ваш код здесь\n",
    "        if not hasattr(self, 'revenues'):  \n",
    "            self.revenues = []  \n",
    "        # Добавим текущую сделку  \n",
    "        self.revenues.append(amount)\n",
    "    \n",
    "    def average_revenue(self):\n",
    "        \"\"\"\n",
    "        Метод возвращает среднюю выручку по отделам.\n",
    "        \"\"\"\n",
    "        # ваш код здесь\n",
    "        if not hasattr(self, 'revenues') or not self.revenues:\n",
    "            return 0\n",
    "        return sum(self.revenues) / len(self.revenues)"
   ]
  },
  {
   "cell_type": "markdown",
   "metadata": {},
   "source": [
    "Улучшите класс DepartmentReport, добавив в него инициализатор.\n",
    "\n",
    "Класс при инициализации должен принимать переменную company_name и инициализировать её значением свойство company, а также инициализировать свойство revenues пустым списком.\n",
    "\n",
    "Также модифицируйте метод average_revenue. Теперь он должен возвращать строку следующего вида \"Average department revenue for <company_name>: <average_revenue>\"."
   ]
  },
  {
   "cell_type": "code",
   "execution_count": null,
   "metadata": {},
   "outputs": [],
   "source": [
    "class DepartmentReport():\n",
    "\n",
    "    def __init__(self, company_name):\n",
    "        \"\"\"\n",
    "        Метод инициализации класса. \n",
    "        Создаёт атрибуты revenues и company\n",
    "        \"\"\"\n",
    "        #ваш код здесь\n",
    "        self.company = company_name\n",
    "        self.revenues = []\n",
    "    \n",
    "    def add_revenue(self, amount):\n",
    "        \"\"\"\n",
    "        Метод для добавления выручки отдела в список revenues.\n",
    "        Если атрибута revenues ещё не существует, метод должен создавать пустой список перед добавлением выручки.\n",
    "        \"\"\"\n",
    "        #ваш код здесь\n",
    "        self.revenues.append(amount)\n",
    "    \n",
    "    def average_revenue(self):\n",
    "        \"\"\"\n",
    "        Вычисляет average_revenue — среднюю выручку по отделам — округляя до целого.\n",
    "        Метод возвращает строку в формате:\n",
    "        'Average department revenue for <company>: <average_revenue>'\n",
    "        \"\"\"\n",
    "        #ваш код здесь\n",
    "        avg_revenue = (sum(self.revenues) / len(self.revenues)) if self.revenues else 0\n",
    "        return f\"Average department revenue for {self.company}: {int(avg_revenue)}\"\n",
    "\n"
   ]
  },
  {
   "cell_type": "markdown",
   "metadata": {},
   "source": [
    "Мы разрабатываем приложение, которое подразумевает функционал авторизации пользователя, а также управление его балансом на некотором виртуальном счете.\n",
    "\n",
    "Определите класс для пользователей User.\n",
    "\n",
    "У него должны быть:\n",
    "\n",
    "атрибуты email, password и balance, которые устанавливаются при инициализации в методе __init__();\n",
    "метод login(), который реализует проверку почты и пароля. Метод должен принимать в качестве аргументов емайл (email) и пароль (password). Если они совпадают с атрибутами объекта, он возвращает True, а иначе — False;\n",
    "метод update_balance(), который должен принимать в качестве аргумента amount некоторое число и изменять текущий баланс счёта (атрибут balance) на величину amount."
   ]
  },
  {
   "cell_type": "code",
   "execution_count": null,
   "metadata": {},
   "outputs": [],
   "source": [
    "class User:\n",
    "    def __init__(self, email, password, balance):\n",
    "        self.email = email\n",
    "        self.password = password\n",
    "        self.balance = balance\n",
    "    \n",
    "    def login(self, email, password):\n",
    "        return self.email == email and self.password == password\n",
    "    \n",
    "    def update_balance(self, amount):\n",
    "        self.balance += amount"
   ]
  },
  {
   "cell_type": "markdown",
   "metadata": {},
   "source": [
    "Определите класс IntDataFrame, который в момент инициализации объектов принимает список неотрицательных чисел и приводит к целым значениям все числа в этом списке, отрезая дробную часть с помощью встроенной функции int().\n",
    "\n",
    "Результирующий список должен быть сохранен в виде атрибута с именем column.\n",
    "\n",
    "Также класс должен содержать следующие методы:\n",
    "\n",
    "count(), который возвращает количество ненулевых элементов в списке column;\n",
    "\n",
    "unique(), который возвращает число уникальных элементов в списке в списке column."
   ]
  },
  {
   "cell_type": "code",
   "execution_count": null,
   "metadata": {},
   "outputs": [],
   "source": [
    "class IntDataFrame:\n",
    "    def __init__(self, numbers):\n",
    "        self.column = [int(num) for num in numbers]\n",
    "    \n",
    "    def count(self):\n",
    "        return sum(1 for num in self.column if num != 0)\n",
    "    \n",
    "    def unique(self):\n",
    "        return len(set(self.column))"
   ]
  },
  {
   "cell_type": "markdown",
   "metadata": {},
   "source": [
    "Напишите класс сборщика технических сообщений OwnLogger.\n",
    "\n",
    "У него должен быть\n",
    "\n",
    "атрибут logs, содержащий {\"info\": None, \"warning\": None, \"error\": None, \"all\": None}.\n",
    "метод log(message, level), который записывает сообщения. Здесь сообщение message может быть любым, а level — один из \"info\", \"warning\", \"error\".\n",
    "метод show_last(level), где level может быть \"info\", \"warning\", \"error\", \"all\".\n",
    "Для \"all\" он просто возвращает последнее добавленное сообщение, а для остальных — последнее поступившее сообщение соответствующего уровня. При этом по умолчанию значение именно \"all\".\n",
    "\n",
    "Если подходящего сообщения нет, возвращает None."
   ]
  },
  {
   "cell_type": "code",
   "execution_count": null,
   "metadata": {},
   "outputs": [],
   "source": [
    "class OwnLogger:\n",
    "    def __init__(self):\n",
    "        self.logs = {\n",
    "            \"info\": None,\n",
    "            \"warning\": None,\n",
    "            \"error\": None,\n",
    "            \"all\": None\n",
    "        }\n",
    "    \n",
    "    def log(self, message, level):\n",
    "        if level in self.logs:\n",
    "            if self.logs[level] is None:\n",
    "                self.logs[level] = []\n",
    "            self.logs[level].append(message)\n",
    "            \n",
    "            if self.logs[\"all\"] is None:\n",
    "                self.logs[\"all\"] = []\n",
    "            self.logs[\"all\"].append(message)\n",
    "    \n",
    "    def show_last(self, level=\"all\"):\n",
    "        if level not in self.logs:\n",
    "            return None\n",
    "        \n",
    "        logs_list = self.logs[level]\n",
    "        if not logs_list:  # None или пустой список\n",
    "            return None\n",
    "        return logs_list[-1]"
   ]
  },
  {
   "cell_type": "markdown",
   "metadata": {},
   "source": [
    "Сделайте функцию, которая принимает от пользователя путь и выводит всю информацию о содержимом этой папки. Для реализации используйте функцию встроенного модуля os.walk(). Если путь не указан, то сравнение начинается с текущей директории."
   ]
  },
  {
   "cell_type": "code",
   "execution_count": null,
   "metadata": {},
   "outputs": [],
   "source": [
    "import os\n",
    "\n",
    "def walk_desc(path=None):\n",
    "    start_path = path if path is not None else os.getcwd()\n",
    "\n",
    "    for root, dirs, files in os.walk(start_path):\n",
    "        print(\"Текущая директория\", root)\n",
    "        print(\"---\")\n",
    "\n",
    "        if dirs:\n",
    "            print(\"Список папок\", dirs)\n",
    "        else:\n",
    "            print(\"Папок нет\")\n",
    "        print(\"---\")\n",
    "\n",
    "        if files:\n",
    "            print(\"Список файлов\", files)\n",
    "        else:\n",
    "            print(\"Файлов нет\")\n",
    "        print(\"---\")\n",
    "\n",
    "        if files and dirs:\n",
    "            print(\"Все пути:\")\n",
    "        for f in files:\n",
    "            print(\"Файл \", os.path.join(root, f))\n",
    "        for d in dirs:\n",
    "            print(\"Папка \", os.path.join(root, d))\n",
    "        print(\"===\")\n",
    "\n",
    "walk_desc()"
   ]
  }
 ],
 "metadata": {
  "language_info": {
   "name": "python"
  }
 },
 "nbformat": 4,
 "nbformat_minor": 2
}
