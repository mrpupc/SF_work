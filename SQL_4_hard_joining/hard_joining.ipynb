{
 "cells": [
  {
   "cell_type": "markdown",
   "metadata": {},
   "source": [
    "Как зовут водителя (first_name), который совершил наибольшее количество доставок одному клиенту?"
   ]
  },
  {
   "cell_type": "code",
   "execution_count": null,
   "metadata": {
    "vscode": {
     "languageId": "sql"
    }
   },
   "outputs": [],
   "source": [
    "SELECT d.first_name, s.cust_id, COUNT(*) as delivery_count\n",
    "FROM sql.shipment s\n",
    "JOIN sql.driver d ON s.driver_id = d.driver_id\n",
    "GROUP BY d.first_name, s.cust_id\n",
    "ORDER BY delivery_count DESC\n",
    "LIMIT 1"
   ]
  },
  {
   "cell_type": "markdown",
   "metadata": {},
   "source": [
    "Укажите имя клиента, получившего наибольшее количество доставок за 2017 год"
   ]
  },
  {
   "cell_type": "code",
   "execution_count": null,
   "metadata": {
    "vscode": {
     "languageId": "sql"
    }
   },
   "outputs": [],
   "source": [
    "SELECT \n",
    "    cust_name, \n",
    "    COUNT(ship_id) AS shipment_count\n",
    "FROM \n",
    "    sql.shipment s \n",
    "JOIN \n",
    "    sql.customer c ON s.cust_id = c.cust_id\n",
    "WHERE \n",
    "    ship_date BETWEEN '2017-01-01' AND '2017-12-31'\n",
    "GROUP BY \n",
    "    cust_name\n",
    "ORDER BY \n",
    "    shipment_count DESC"
   ]
  },
  {
   "cell_type": "markdown",
   "metadata": {},
   "source": [
    "Допустим, мы хотим собрать из справочников по книгам и фильмам один, так чтобы в нём содержались названия произведений, а также их описание — книга или фильм.\n",
    "\n",
    "Для этого напишем простой запрос:"
   ]
  },
  {
   "cell_type": "code",
   "execution_count": null,
   "metadata": {
    "vscode": {
     "languageId": "sql"
    }
   },
   "outputs": [],
   "source": [
    "SELECT          book_name object_name, 'книга' object_description \n",
    "FROM          public.books\n",
    "UNION ALL\n",
    "SELECT          movie_title, 'фильм' \n",
    "FROM          sql.kinopoisk"
   ]
  },
  {
   "cell_type": "markdown",
   "metadata": {},
   "source": [
    "UNION - Сделает уникальные значения  \n",
    "UNION ALL - Сделает все значения\n",
    "\n",
    "Важно! UNION оставляет только уникальные значения, а потому требует дополнительных вычислительных мощностей и памяти (в данном случае можно провести аналогию с DISTINCT). Поэтому если вы уверены в отсутствии дубликатов в данных или они вам не важны, предпочтительнее использовать UNION ALL."
   ]
  },
  {
   "cell_type": "markdown",
   "metadata": {},
   "source": [
    "Мы уже знаем, что можно легко и непринуждённо применить операторы ORDER BY и LIMIT ко всему результату запроса."
   ]
  },
  {
   "cell_type": "code",
   "execution_count": null,
   "metadata": {
    "vscode": {
     "languageId": "sql"
    }
   },
   "outputs": [],
   "source": [
    "SELECT book_name object_name, 'книга' object_descritption \n",
    "FROM public.books\n",
    "UNION ALL\n",
    "SELECT movie_title, 'фильм' \n",
    "FROM sql.kinopoisk\n",
    "ORDER BY 1\n",
    "LIMIT 1"
   ]
  },
  {
   "cell_type": "markdown",
   "metadata": {},
   "source": [
    "А если мы не хотим общую сортировку? Может, нам нужны строки с названием как фильма, так и книги, идущих первыми по алфавиту.\n",
    "\n",
    "Просто добавим ORDER BY и LIMIT ещё и в первую часть запроса:"
   ]
  },
  {
   "cell_type": "code",
   "execution_count": null,
   "metadata": {
    "vscode": {
     "languageId": "sql"
    }
   },
   "outputs": [],
   "source": [
    "(SELECT book_name object_name, 'книга' object_descritption \n",
    "FROM public.books\n",
    "ORDER BY 1\n",
    "LIMIT 1)\n",
    "UNION ALL\n",
    "(SELECT movie_title, 'фильм' \n",
    "FROM sql.kinopoisk\n",
    "ORDER BY 1\n",
    "LIMIT 1)"
   ]
  },
  {
   "cell_type": "markdown",
   "metadata": {},
   "source": [
    "Напишите запрос, который создает уникальный алфавитный справочник всех городов, штатов, имён водителей и производителей грузовиков. Результатом запроса должны быть два столбца: название и тип объекта (city, state, driver, truck). Отсортируйте список по названию объекта, а затем — по типу."
   ]
  },
  {
   "cell_type": "code",
   "execution_count": null,
   "metadata": {
    "vscode": {
     "languageId": "sql"
    }
   },
   "outputs": [],
   "source": [
    "SELECT\n",
    "  city_name as object_name,\n",
    "  'city' as object_description \n",
    "FROM sql.city\n",
    "\n",
    "UNION\n",
    "SELECT state, 'state' \n",
    "FROM sql.city\n",
    "\n",
    "UNION\n",
    "SELECT first_name, 'driver' \n",
    "FROM sql.driver\n",
    "\n",
    "UNION\n",
    "SELECT make, 'truck' \n",
    "FROM sql.truck\n",
    "\n",
    "ORDER BY 1, 2"
   ]
  },
  {
   "cell_type": "markdown",
   "metadata": {},
   "source": [
    "Напишите запрос, который соберёт имена всех упомянутых городов и штатов из таблицы city. Результатом запроса должен быть один столбец object_name, отсортированный в алфавитном порядке."
   ]
  },
  {
   "cell_type": "code",
   "execution_count": null,
   "metadata": {
    "vscode": {
     "languageId": "sql"
    }
   },
   "outputs": [],
   "source": [
    "SELECT city_name as object_name\n",
    "FROM sql.city\n",
    "\n",
    "UNION ALL\n",
    "SELECT state\n",
    "FROM sql.city\n",
    "\n",
    "ORDER BY object_name"
   ]
  },
  {
   "cell_type": "markdown",
   "metadata": {},
   "source": [
    "Для типизации в Postgres составляется запрос по модели column_name::column_type"
   ]
  },
  {
   "cell_type": "code",
   "execution_count": null,
   "metadata": {
    "vscode": {
     "languageId": "sql"
    }
   },
   "outputs": [],
   "source": [
    "SELECT \n",
    "         c.city_id::text /*выбираем столбец city_id, переводим city_id из числового в текстовый формат*/\n",
    "FROM\n",
    "         sql.city c /*из схемы sql  и таблицы city, задаём таблице алиас с*/\n",
    "\n",
    "UNION ALL /*оператор присоединения*/\n",
    "\n",
    "SELECT \n",
    "         cc.city_name /*выбираем столбец city_name*/\n",
    "FROM\n",
    "         sql.city cc /*из схемы sql и таблицы city, задаём таблице алиас сс*/"
   ]
  },
  {
   "cell_type": "markdown",
   "metadata": {},
   "source": [
    "Напишите запрос, который объединит в себе все почтовые индексы водителей и их телефоны в единый столбец-справочник contact. Также добавьте столбец с именем водителя first_name и столбец contact_type с типом контакта (phone или zip в зависимости от типа). Отсортируйте список по столбцу с контактными данными в порядке возрастания, а затем — по имени водителя."
   ]
  },
  {
   "cell_type": "code",
   "execution_count": null,
   "metadata": {
    "vscode": {
     "languageId": "sql"
    }
   },
   "outputs": [],
   "source": [
    "SELECT\n",
    "    zip_code::text AS contact,\n",
    "    first_name,\n",
    "    'zip' AS contact_type\n",
    "FROM sql.driver\n",
    "\n",
    "UNION ALL\n",
    "\n",
    "SELECT\n",
    "    phone,\n",
    "    first_name,\n",
    "    'phone'\n",
    "FROM sql.driver\n",
    "\n",
    "ORDER BY \n",
    "    contact, first_name"
   ]
  },
  {
   "cell_type": "markdown",
   "metadata": {},
   "source": [
    "Попробуем вывести обобщённые данные о населении по всем городам, с детализацией до конкретного города."
   ]
  },
  {
   "cell_type": "code",
   "execution_count": null,
   "metadata": {
    "vscode": {
     "languageId": "sql"
    }
   },
   "outputs": [],
   "source": [
    "SELECT\n",
    "         c.city_name,\n",
    "         c.population\n",
    "FROM\n",
    "         sql.city c\n",
    "UNION ALL\n",
    "SELECT\n",
    "         'total',\n",
    "         SUM(c.population)\n",
    "FROM\n",
    "         sql.city c\n",
    "ORDER BY 2 DESC"
   ]
  },
  {
   "cell_type": "markdown",
   "metadata": {},
   "source": [
    "Помимо соединения разнородных сущностей в единый справочник, UNION ALL часто используется для подведения промежуточных итогов и выведения результатов агрегатных функций."
   ]
  },
  {
   "cell_type": "code",
   "execution_count": null,
   "metadata": {
    "vscode": {
     "languageId": "sql"
    }
   },
   "outputs": [],
   "source": [
    "SELECT\n",
    "         c.city_name,\n",
    "         c.population\n",
    "FROM\n",
    "         sql.city c\n",
    "UNION ALL\n",
    "SELECT\n",
    "         'total',\n",
    "         SUM(c.population)\n",
    "FROM\n",
    "         sql.city c\n",
    "ORDER BY 2 DESC"
   ]
  },
  {
   "cell_type": "markdown",
   "metadata": {},
   "source": [
    "Напишите запрос, который выводит общее число доставок total_shipments, а также количество доставок в каждый день. Необходимые столбцы: date_period, cnt_shipment. Не забывайте о единой типизации. Упорядочите по убыванию столбца date_period."
   ]
  },
  {
   "cell_type": "code",
   "execution_count": null,
   "metadata": {
    "vscode": {
     "languageId": "sql"
    }
   },
   "outputs": [],
   "source": [
    "(SELECT ship_date::text date_period, COUNT(ship_id) cnt_shipment\n",
    "FROM sql.shipment\n",
    "GROUP BY ship_date\n",
    "ORDER BY ship_date desc)\n",
    "\n",
    "UNION ALL\n",
    "\n",
    "SELECT 'total_shipments', COUNT(ship_id)\n",
    "FROM sql.shipment"
   ]
  },
  {
   "cell_type": "markdown",
   "metadata": {},
   "source": [
    "UNION также может быть использован для разделения существующей выборки по критерию «выполнение определённого условия».\n",
    "с помощью UNION можно отобразить, у кого из водителей заполнен столбец с номером телефона."
   ]
  },
  {
   "cell_type": "code",
   "execution_count": null,
   "metadata": {
    "vscode": {
     "languageId": "sql"
    }
   },
   "outputs": [],
   "source": [
    "SELECT\n",
    "         d.first_name,\n",
    "         d.last_name,\n",
    "         'телефон заполнен' phone_info\n",
    "FROM\n",
    "         sql.driver d\n",
    "WHERE d.phone IS NOT NULL\n",
    "\n",
    "UNION\n",
    "\n",
    "SELECT\n",
    "         d.first_name,\n",
    "         d.last_name,\n",
    "         'телефон не заполнен' phone_info\n",
    "FROM\n",
    "         sql.driver d\n",
    "WHERE d.phone IS NULL"
   ]
  },
  {
   "cell_type": "markdown",
   "metadata": {},
   "source": []
  },
  {
   "cell_type": "code",
   "execution_count": null,
   "metadata": {
    "vscode": {
     "languageId": "sql"
    }
   },
   "outputs": [],
   "source": [
    "SELECT\n",
    "    city_name AS city_name,\n",
    "    state AS state,\n",
    "    'доставка осуществлялась' AS shipping_status\n",
    "FROM sql.city c \n",
    "LEFT JOIN sql.shipment s on c.city_id = s.city_id\n",
    "WHERE cust_id is not null\n",
    "\n",
    "union\n",
    "\n",
    "SELECT\n",
    "    city_name AS city_name,\n",
    "    state AS state,\n",
    "    'доставка не осуществлялась' AS shipping_status\n",
    "FROM sql.city c \n",
    "LEFT JOIN sql.shipment s on c.city_id = s.city_id\n",
    "WHERE cust_id is null\n",
    "\n",
    "ORDER BY city_name, state"
   ]
  },
  {
   "cell_type": "markdown",
   "metadata": {},
   "source": [
    "Напишите запрос, который выводит два столбца: city_name и shippings_fake. Выведите города, куда совершались доставки. Пусть первый столбец содержит название города, а второй формируется так:\n",
    "\n",
    "- если в городе было более десяти доставок, вывести количество доставок в этот город как есть;\n",
    "- иначе — вывести количество доставок, увеличенное на пять.\n",
    "\n",
    "Отсортируйте по убыванию получившегося «нечестного» количества доставок, а затем — по имени в алфавитном порядке."
   ]
  },
  {
   "cell_type": "code",
   "execution_count": null,
   "metadata": {
    "vscode": {
     "languageId": "sql"
    }
   },
   "outputs": [],
   "source": [
    "SELECT\n",
    "    city_name AS city_name,\n",
    "    COUNT(cust_id) AS shippings_fake\n",
    "FROM sql.city c \n",
    "JOIN sql.shipment s on c.city_id = s.city_id\n",
    "GROUP BY city_name\n",
    "HAVING COUNT(cust_id) > 10\n",
    "\n",
    "UNION\n",
    "\n",
    "SELECT\n",
    "    city_name AS city_name,\n",
    "    COUNT(cust_id) + 5 AS shippings_fake\n",
    "FROM sql.city c \n",
    "JOIN sql.shipment s on c.city_id = s.city_id\n",
    "GROUP BY city_name\n",
    "HAVING COUNT(cust_id) <= 10\n",
    "\n",
    "ORDER BY shippings_fake desc, city_name"
   ]
  },
  {
   "cell_type": "markdown",
   "metadata": {},
   "source": [
    "UNION можно использовать для создания справочников прямо в коде запроса. К примеру, если мы хотим вручную ввести какие-то значения и произвести с ними некоторые манипуляции или дополнить существующую выдачу своими значениями."
   ]
  },
  {
   "cell_type": "code",
   "execution_count": null,
   "metadata": {
    "vscode": {
     "languageId": "sql"
    }
   },
   "outputs": [],
   "source": [
    "SELECT \n",
    "         'a' letter,'1' ordinal_position\n",
    "UNION \n",
    "SELECT \n",
    "         'b','2'\n",
    "UNION \n",
    "SELECT\n",
    "         'c','3'"
   ]
  },
  {
   "cell_type": "markdown",
   "metadata": {},
   "source": [
    "Существуют сложные алгоритмы сравнения текстовых значений, но главный смысл сводится к одному: сравнение производится на основе таблицы unicode и позиции элемента в ней с учётом определённых условий."
   ]
  },
  {
   "cell_type": "markdown",
   "metadata": {},
   "source": [
    "Напишите запрос, который выберет наибольшее из числовых значений:\n",
    "\n",
    "- 1000000;\n",
    "- 541;\n",
    "- -500;\n",
    "- 100.\n",
    "Столбец с результатом назовите result."
   ]
  },
  {
   "cell_type": "code",
   "execution_count": null,
   "metadata": {
    "vscode": {
     "languageId": "sql"
    }
   },
   "outputs": [],
   "source": [
    "SELECT \n",
    "        1000000 AS result\n",
    "UNION \n",
    "SELECT \n",
    "        541\n",
    "UNION \n",
    "SELECT\n",
    "        -500\n",
    "UNION\n",
    "SELECT \n",
    "        100\n",
    "ORDER BY result desc\n",
    "LIMIT 1"
   ]
  },
  {
   "cell_type": "markdown",
   "metadata": {},
   "source": [
    "Помним, что сортировка для числовых и строковых типов данных отличается. Построив запрос по аналогии с примером, приведите значения к текстовому типу данных, сравните и выберите наибольшее из них:\n",
    "\n",
    "- 1000000;\n",
    "- 541;\n",
    "- -500;\n",
    "- 100.\n",
    "Столбец с ответом назовите mycol"
   ]
  },
  {
   "cell_type": "code",
   "execution_count": null,
   "metadata": {
    "vscode": {
     "languageId": "sql"
    }
   },
   "outputs": [],
   "source": [
    "SELECT \n",
    "        '1000000' AS mycol\n",
    "UNION \n",
    "SELECT \n",
    "        '541'\n",
    "UNION \n",
    "SELECT\n",
    "        '-500'\n",
    "UNION\n",
    "SELECT \n",
    "        '100'\n",
    "ORDER BY mycol desc\n",
    "limit 1"
   ]
  },
  {
   "cell_type": "code",
   "execution_count": null,
   "metadata": {
    "vscode": {
     "languageId": "sql"
    }
   },
   "outputs": [],
   "source": [
    "SELECT \n",
    "        '+' AS result\n",
    "UNION \n",
    "SELECT \n",
    "        '-'\n",
    "UNION \n",
    "SELECT\n",
    "        '='\n",
    "UNION\n",
    "SELECT \n",
    "        '/'\n",
    "ORDER BY result desc\n",
    "limit 1"
   ]
  },
  {
   "cell_type": "markdown",
   "metadata": {},
   "source": [
    "Предположим, нам нужно узнать, в какие города осуществлялась доставка, за исключением тех, в которых проживают водители"
   ]
  },
  {
   "cell_type": "code",
   "execution_count": null,
   "metadata": {
    "vscode": {
     "languageId": "sql"
    }
   },
   "outputs": [],
   "source": [
    "SELECT\n",
    "         c.city_name\n",
    "FROM\n",
    "         sql.shipment s\n",
    "JOIN sql.city c ON s.city_id = c.city_id\n",
    "EXCEPT\n",
    "SELECT\n",
    "         cc.city_name\n",
    "FROM\n",
    "         sql.driver d \n",
    "JOIN sql.city cc ON d.city_id=cc.city_id\n",
    "ORDER BY 1"
   ]
  },
  {
   "cell_type": "markdown",
   "metadata": {},
   "source": [
    "Все водители проживают в городе Memphis, и мы видим, что он не выводится в результате запроса.\n",
    "\n",
    "Как вы, должно быть, заметили, для решения этой задачи мы использовали оператор EXCEPT."
   ]
  },
  {
   "cell_type": "markdown",
   "metadata": {},
   "source": [
    "Мы уже знаем, как решить такую задачу с использованием LEFT JOIN. Вариант с EXCEPT будет полезен в тех случаях, когда у вас много столбцов и вам не хочется прописывать их равенство в условии для JOIN."
   ]
  },
  {
   "cell_type": "markdown",
   "metadata": {},
   "source": [
    "Выведите список zip-кодов, которые есть в таблице sql.driver, но отсутствуют в таблице sql.customer. Отсортируйте по возрастанию, столбец к выводу — zip. В поле ниже введите запрос, с помощью которого вы решили эту задачу."
   ]
  },
  {
   "cell_type": "code",
   "execution_count": null,
   "metadata": {
    "vscode": {
     "languageId": "sql"
    }
   },
   "outputs": [],
   "source": [
    "SELECT zip_code\n",
    "FROM sql.driver\n",
    "\n",
    "EXCEPT\n",
    "\n",
    "SELECT zip\n",
    "FROM sql.customer"
   ]
  },
  {
   "cell_type": "markdown",
   "metadata": {},
   "source": [
    "Предположим, нам надо вывести совпадающие по названию города и штаты."
   ]
  },
  {
   "cell_type": "code",
   "execution_count": null,
   "metadata": {
    "vscode": {
     "languageId": "sql"
    }
   },
   "outputs": [],
   "source": [
    "SELECT          c.city_name object_name\n",
    "FROM          sql.city c\n",
    "INTERSECT\n",
    "SELECT \n",
    "         cc.state\n",
    "FROM          sql.city cc\n",
    "ORDER BY 1"
   ]
  },
  {
   "cell_type": "markdown",
   "metadata": {},
   "source": [
    "Синтаксис запроса с оператором INTERSECT выглядит следующим образом:"
   ]
  },
  {
   "cell_type": "code",
   "execution_count": null,
   "metadata": {
    "vscode": {
     "languageId": "sql"
    }
   },
   "outputs": [],
   "source": [
    "SELECT \n",
    "         n columns\n",
    "FROM \n",
    "         table_1\n",
    "INTERSECT\n",
    "SELECT \n",
    "         n columns\n",
    "FROM \n",
    "         table_2"
   ]
  },
  {
   "cell_type": "markdown",
   "metadata": {},
   "source": [
    "Напишите запрос, который выведет список id городов, в которых есть и клиенты, и доставки, и водители."
   ]
  },
  {
   "cell_type": "code",
   "execution_count": null,
   "metadata": {
    "vscode": {
     "languageId": "sql"
    }
   },
   "outputs": [],
   "source": [
    "SELECT city_id\n",
    "FROM sql.city\n",
    "INTERSECT\n",
    "SELECT cust.city_id\n",
    "FROM sql.customer cust\n",
    "INTERSECT\n",
    "SELECT ship.city_id\n",
    "FROM sql.shipment ship\n",
    "INTERSECT\n",
    "SELECT drive.city_id\n",
    "FROM sql.driver drive\n"
   ]
  },
  {
   "cell_type": "markdown",
   "metadata": {},
   "source": [
    "Выведите zip-код, который есть как в таблице с клиентами, так и в таблице с водителями."
   ]
  },
  {
   "cell_type": "code",
   "execution_count": null,
   "metadata": {
    "vscode": {
     "languageId": "sql"
    }
   },
   "outputs": [],
   "source": [
    "SELECT zip\n",
    "FROM sql.customer\n",
    "INTERSECT\n",
    "SELECT zip_code\n",
    "FROM sql.driver"
   ]
  },
  {
   "cell_type": "markdown",
   "metadata": {},
   "source": [
    "Запишем структуру запроса с учётом полученных знаний."
   ]
  },
  {
   "cell_type": "code",
   "execution_count": null,
   "metadata": {
    "vscode": {
     "languageId": "sql"
    }
   },
   "outputs": [],
   "source": [
    "SELECT          N columns\n",
    "FROM          table_1\n",
    "UNION / UNION ALL / EXCEPT / INTERSECT \n",
    "SELECT          N columns\n",
    "FROM          table_2"
   ]
  },
  {
   "cell_type": "markdown",
   "metadata": {},
   "source": [
    "Выведите города с максимальным и минимальным весом единичной доставки. Столбцы к выводу — city_name, weight."
   ]
  },
  {
   "cell_type": "code",
   "execution_count": null,
   "metadata": {
    "vscode": {
     "languageId": "sql"
    }
   },
   "outputs": [],
   "source": [
    "(SELECT city_name, max(weight) AS weight\n",
    "FROM sql.shipment s\n",
    "JOIN sql.city c on c.city_id = s.city_id\n",
    "GROUP BY city_name\n",
    "ORDER BY weight desc\n",
    "LIMIT 1)\n",
    "\n",
    "UNION\n",
    "\n",
    "(SELECT city_name, min(weight) AS weight\n",
    "FROM sql.shipment s\n",
    "JOIN sql.city c on c.city_id = s.city_id\n",
    "GROUP BY city_name\n",
    "ORDER BY weight\n",
    "LIMIT 1)"
   ]
  },
  {
   "cell_type": "markdown",
   "metadata": {},
   "source": [
    "Выведите идентификационные номера клиентов (cust_id), которые совпадают с идентификационными номерами доставок (ship_id). Столбец к выводу — mutual_id. Отсортируйте по возрастанию."
   ]
  },
  {
   "cell_type": "code",
   "execution_count": null,
   "metadata": {
    "vscode": {
     "languageId": "sql"
    }
   },
   "outputs": [],
   "source": [
    "SELECT cust_id AS mutual_id\n",
    "FROM sql.customer\n",
    "\n",
    "INTERSECT\n",
    "\n",
    "SELECT ship_id\n",
    "FROM sql.shipment\n",
    "\n",
    "ORDER BY mutual_id"
   ]
  },
  {
   "cell_type": "markdown",
   "metadata": {},
   "source": [
    "Создайте справочник, содержащий уникальные имена клиентов, которые являются производителями (cust_type='manufacturer'), и производителей грузовиков, а также описание объекта — 'КЛИЕНТ' или 'ГРУЗОВИК'. Столбцы к выводу — object_name, object_description. Отсортируйте по названию в алфавитном порядке."
   ]
  },
  {
   "cell_type": "code",
   "execution_count": null,
   "metadata": {
    "vscode": {
     "languageId": "sql"
    }
   },
   "outputs": [],
   "source": [
    "SELECT\n",
    "    cust_name AS object_name,\n",
    "    'КЛИЕНТ' AS object_description\n",
    "FROM sql.customer\n",
    "WHERE cust_type='manufacturer'\n",
    "\n",
    "UNION \n",
    "\n",
    "SELECT\n",
    "    make,\n",
    "    'ГРУЗОВИК'\n",
    "FROM sql.truck\n",
    "\n",
    "ORDER BY object_name"
   ]
  }
 ],
 "metadata": {
  "language_info": {
   "name": "python"
  }
 },
 "nbformat": 4,
 "nbformat_minor": 2
}
