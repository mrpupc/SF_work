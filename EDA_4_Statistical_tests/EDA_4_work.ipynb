{
 "cells": [
  {
   "cell_type": "markdown",
   "metadata": {},
   "source": [
    "# <center> Практика.Исследование данных HR-агенства."
   ]
  },
  {
   "cell_type": "markdown",
   "metadata": {},
   "source": [
    "## <center> Загрузка и обработка данных"
   ]
  },
  {
   "cell_type": "code",
   "execution_count": 1,
   "metadata": {},
   "outputs": [],
   "source": [
    "import pandas as pd\n",
    "\n",
    "import seaborn as sns\n",
    "import matplotlib.pyplot as plt\n",
    "\n",
    "import scipy.stats as stats"
   ]
  },
  {
   "cell_type": "code",
   "execution_count": 2,
   "metadata": {},
   "outputs": [
    {
     "data": {
      "text/html": [
       "<div>\n",
       "<style scoped>\n",
       "    .dataframe tbody tr th:only-of-type {\n",
       "        vertical-align: middle;\n",
       "    }\n",
       "\n",
       "    .dataframe tbody tr th {\n",
       "        vertical-align: top;\n",
       "    }\n",
       "\n",
       "    .dataframe thead th {\n",
       "        text-align: right;\n",
       "    }\n",
       "</style>\n",
       "<table border=\"1\" class=\"dataframe\">\n",
       "  <thead>\n",
       "    <tr style=\"text-align: right;\">\n",
       "      <th></th>\n",
       "      <th>Unnamed: 0</th>\n",
       "      <th>work_year</th>\n",
       "      <th>experience_level</th>\n",
       "      <th>employment_type</th>\n",
       "      <th>job_title</th>\n",
       "      <th>salary</th>\n",
       "      <th>salary_currency</th>\n",
       "      <th>salary_in_usd</th>\n",
       "      <th>employee_residence</th>\n",
       "      <th>remote_ratio</th>\n",
       "      <th>company_location</th>\n",
       "      <th>company_size</th>\n",
       "    </tr>\n",
       "  </thead>\n",
       "  <tbody>\n",
       "    <tr>\n",
       "      <th>0</th>\n",
       "      <td>0</td>\n",
       "      <td>2020</td>\n",
       "      <td>MI</td>\n",
       "      <td>FT</td>\n",
       "      <td>Data Scientist</td>\n",
       "      <td>70000</td>\n",
       "      <td>EUR</td>\n",
       "      <td>79833</td>\n",
       "      <td>DE</td>\n",
       "      <td>0</td>\n",
       "      <td>DE</td>\n",
       "      <td>L</td>\n",
       "    </tr>\n",
       "    <tr>\n",
       "      <th>1</th>\n",
       "      <td>1</td>\n",
       "      <td>2020</td>\n",
       "      <td>SE</td>\n",
       "      <td>FT</td>\n",
       "      <td>Machine Learning Scientist</td>\n",
       "      <td>260000</td>\n",
       "      <td>USD</td>\n",
       "      <td>260000</td>\n",
       "      <td>JP</td>\n",
       "      <td>0</td>\n",
       "      <td>JP</td>\n",
       "      <td>S</td>\n",
       "    </tr>\n",
       "    <tr>\n",
       "      <th>2</th>\n",
       "      <td>2</td>\n",
       "      <td>2020</td>\n",
       "      <td>SE</td>\n",
       "      <td>FT</td>\n",
       "      <td>Big Data Engineer</td>\n",
       "      <td>85000</td>\n",
       "      <td>GBP</td>\n",
       "      <td>109024</td>\n",
       "      <td>GB</td>\n",
       "      <td>50</td>\n",
       "      <td>GB</td>\n",
       "      <td>M</td>\n",
       "    </tr>\n",
       "    <tr>\n",
       "      <th>3</th>\n",
       "      <td>3</td>\n",
       "      <td>2020</td>\n",
       "      <td>MI</td>\n",
       "      <td>FT</td>\n",
       "      <td>Product Data Analyst</td>\n",
       "      <td>20000</td>\n",
       "      <td>USD</td>\n",
       "      <td>20000</td>\n",
       "      <td>HN</td>\n",
       "      <td>0</td>\n",
       "      <td>HN</td>\n",
       "      <td>S</td>\n",
       "    </tr>\n",
       "    <tr>\n",
       "      <th>4</th>\n",
       "      <td>4</td>\n",
       "      <td>2020</td>\n",
       "      <td>SE</td>\n",
       "      <td>FT</td>\n",
       "      <td>Machine Learning Engineer</td>\n",
       "      <td>150000</td>\n",
       "      <td>USD</td>\n",
       "      <td>150000</td>\n",
       "      <td>US</td>\n",
       "      <td>50</td>\n",
       "      <td>US</td>\n",
       "      <td>L</td>\n",
       "    </tr>\n",
       "  </tbody>\n",
       "</table>\n",
       "</div>"
      ],
      "text/plain": [
       "   Unnamed: 0  work_year experience_level employment_type  \\\n",
       "0           0       2020               MI              FT   \n",
       "1           1       2020               SE              FT   \n",
       "2           2       2020               SE              FT   \n",
       "3           3       2020               MI              FT   \n",
       "4           4       2020               SE              FT   \n",
       "\n",
       "                    job_title  salary salary_currency  salary_in_usd  \\\n",
       "0              Data Scientist   70000             EUR          79833   \n",
       "1  Machine Learning Scientist  260000             USD         260000   \n",
       "2           Big Data Engineer   85000             GBP         109024   \n",
       "3        Product Data Analyst   20000             USD          20000   \n",
       "4   Machine Learning Engineer  150000             USD         150000   \n",
       "\n",
       "  employee_residence  remote_ratio company_location company_size  \n",
       "0                 DE             0               DE            L  \n",
       "1                 JP             0               JP            S  \n",
       "2                 GB            50               GB            M  \n",
       "3                 HN             0               HN            S  \n",
       "4                 US            50               US            L  "
      ]
     },
     "metadata": {},
     "output_type": "display_data"
    }
   ],
   "source": [
    "data = pd.read_csv('data/ds_salaries.csv')\n",
    "display(data.head(5))"
   ]
  },
  {
   "cell_type": "code",
   "execution_count": 3,
   "metadata": {},
   "outputs": [
    {
     "name": "stdout",
     "output_type": "stream",
     "text": [
      "<class 'pandas.core.frame.DataFrame'>\n",
      "RangeIndex: 607 entries, 0 to 606\n",
      "Data columns (total 12 columns):\n",
      " #   Column              Non-Null Count  Dtype \n",
      "---  ------              --------------  ----- \n",
      " 0   Unnamed: 0          607 non-null    int64 \n",
      " 1   work_year           607 non-null    int64 \n",
      " 2   experience_level    607 non-null    object\n",
      " 3   employment_type     607 non-null    object\n",
      " 4   job_title           607 non-null    object\n",
      " 5   salary              607 non-null    int64 \n",
      " 6   salary_currency     607 non-null    object\n",
      " 7   salary_in_usd       607 non-null    int64 \n",
      " 8   employee_residence  607 non-null    object\n",
      " 9   remote_ratio        607 non-null    int64 \n",
      " 10  company_location    607 non-null    object\n",
      " 11  company_size        607 non-null    object\n",
      "dtypes: int64(5), object(7)\n",
      "memory usage: 57.0+ KB\n",
      "None\n"
     ]
    }
   ],
   "source": [
    "print(data.info())"
   ]
  },
  {
   "cell_type": "markdown",
   "metadata": {},
   "source": [
    "**Проверим датасет на дубликаты**"
   ]
  },
  {
   "cell_type": "code",
   "execution_count": 4,
   "metadata": {},
   "outputs": [
    {
     "name": "stdout",
     "output_type": "stream",
     "text": [
      "Найденные дубликаты:0\n"
     ]
    }
   ],
   "source": [
    "print('Найденные дубликаты:{}'.format(data.duplicated().sum()))"
   ]
  },
  {
   "cell_type": "markdown",
   "metadata": {},
   "source": [
    "**Проверим данные на ошибки**\n"
   ]
  },
  {
   "cell_type": "code",
   "execution_count": 5,
   "metadata": {},
   "outputs": [
    {
     "data": {
      "text/html": [
       "<div>\n",
       "<style scoped>\n",
       "    .dataframe tbody tr th:only-of-type {\n",
       "        vertical-align: middle;\n",
       "    }\n",
       "\n",
       "    .dataframe tbody tr th {\n",
       "        vertical-align: top;\n",
       "    }\n",
       "\n",
       "    .dataframe thead th {\n",
       "        text-align: right;\n",
       "    }\n",
       "</style>\n",
       "<table border=\"1\" class=\"dataframe\">\n",
       "  <thead>\n",
       "    <tr style=\"text-align: right;\">\n",
       "      <th></th>\n",
       "      <th>Unnamed: 0</th>\n",
       "      <th>work_year</th>\n",
       "      <th>experience_level</th>\n",
       "      <th>employment_type</th>\n",
       "      <th>job_title</th>\n",
       "      <th>salary</th>\n",
       "      <th>salary_currency</th>\n",
       "      <th>salary_in_usd</th>\n",
       "      <th>employee_residence</th>\n",
       "      <th>remote_ratio</th>\n",
       "      <th>company_location</th>\n",
       "      <th>company_size</th>\n",
       "    </tr>\n",
       "  </thead>\n",
       "  <tbody>\n",
       "    <tr>\n",
       "      <th>182</th>\n",
       "      <td>182</td>\n",
       "      <td>2021</td>\n",
       "      <td>MI</td>\n",
       "      <td>FT</td>\n",
       "      <td>Data Engineer</td>\n",
       "      <td>22000</td>\n",
       "      <td>EUR</td>\n",
       "      <td>26005</td>\n",
       "      <td>RO</td>\n",
       "      <td>0</td>\n",
       "      <td>US</td>\n",
       "      <td>L</td>\n",
       "    </tr>\n",
       "    <tr>\n",
       "      <th>208</th>\n",
       "      <td>208</td>\n",
       "      <td>2021</td>\n",
       "      <td>MI</td>\n",
       "      <td>FL</td>\n",
       "      <td>Data Engineer</td>\n",
       "      <td>20000</td>\n",
       "      <td>USD</td>\n",
       "      <td>20000</td>\n",
       "      <td>IT</td>\n",
       "      <td>0</td>\n",
       "      <td>US</td>\n",
       "      <td>L</td>\n",
       "    </tr>\n",
       "    <tr>\n",
       "      <th>213</th>\n",
       "      <td>213</td>\n",
       "      <td>2021</td>\n",
       "      <td>EN</td>\n",
       "      <td>FT</td>\n",
       "      <td>Big Data Engineer</td>\n",
       "      <td>435000</td>\n",
       "      <td>INR</td>\n",
       "      <td>5882</td>\n",
       "      <td>IN</td>\n",
       "      <td>0</td>\n",
       "      <td>CH</td>\n",
       "      <td>L</td>\n",
       "    </tr>\n",
       "    <tr>\n",
       "      <th>281</th>\n",
       "      <td>281</td>\n",
       "      <td>2021</td>\n",
       "      <td>EN</td>\n",
       "      <td>FT</td>\n",
       "      <td>Research Scientist</td>\n",
       "      <td>100000</td>\n",
       "      <td>USD</td>\n",
       "      <td>100000</td>\n",
       "      <td>JE</td>\n",
       "      <td>0</td>\n",
       "      <td>CN</td>\n",
       "      <td>L</td>\n",
       "    </tr>\n",
       "  </tbody>\n",
       "</table>\n",
       "</div>"
      ],
      "text/plain": [
       "     Unnamed: 0  work_year experience_level employment_type  \\\n",
       "182         182       2021               MI              FT   \n",
       "208         208       2021               MI              FL   \n",
       "213         213       2021               EN              FT   \n",
       "281         281       2021               EN              FT   \n",
       "\n",
       "              job_title  salary salary_currency  salary_in_usd  \\\n",
       "182       Data Engineer   22000             EUR          26005   \n",
       "208       Data Engineer   20000             USD          20000   \n",
       "213   Big Data Engineer  435000             INR           5882   \n",
       "281  Research Scientist  100000             USD         100000   \n",
       "\n",
       "    employee_residence  remote_ratio company_location company_size  \n",
       "182                 RO             0               US            L  \n",
       "208                 IT             0               US            L  \n",
       "213                 IN             0               CH            L  \n",
       "281                 JE             0               CN            L  "
      ]
     },
     "metadata": {},
     "output_type": "display_data"
    }
   ],
   "source": [
    "mask = (data['employee_residence'] != data['company_location']) & (data['remote_ratio'] == 0)\n",
    "display(data[mask])"
   ]
  },
  {
   "cell_type": "markdown",
   "metadata": {},
   "source": [
    "**При отсутствии возможности удалённой работы, локация офиса и места проживания работника отличается**"
   ]
  },
  {
   "cell_type": "code",
   "execution_count": 6,
   "metadata": {},
   "outputs": [],
   "source": [
    "# Удалим строки\n",
    "indices_to_drop = data.loc[mask].index\n",
    "data = data.drop(indices_to_drop)"
   ]
  },
  {
   "cell_type": "markdown",
   "metadata": {},
   "source": [
    "**Проверим регионы компаний**"
   ]
  },
  {
   "cell_type": "code",
   "execution_count": 7,
   "metadata": {},
   "outputs": [
    {
     "name": "stdout",
     "output_type": "stream",
     "text": [
      "company_location\n",
      "US    353\n",
      "GB     47\n",
      "CA     30\n",
      "DE     28\n",
      "IN     24\n",
      "FR     15\n",
      "ES     14\n",
      "GR     11\n",
      "JP      6\n",
      "NL      4\n",
      "AT      4\n",
      "PT      4\n",
      "PL      4\n",
      "LU      3\n",
      "PK      3\n",
      "BR      3\n",
      "AE      3\n",
      "MX      3\n",
      "TR      3\n",
      "DK      3\n",
      "AU      3\n",
      "IT      2\n",
      "CZ      2\n",
      "RU      2\n",
      "NG      2\n",
      "SI      2\n",
      "BE      2\n",
      "VN      1\n",
      "AS      1\n",
      "KE      1\n",
      "MY      1\n",
      "DZ      1\n",
      "CO      1\n",
      "IE      1\n",
      "EE      1\n",
      "MD      1\n",
      "SG      1\n",
      "IR      1\n",
      "CL      1\n",
      "MT      1\n",
      "IL      1\n",
      "UA      1\n",
      "IQ      1\n",
      "RO      1\n",
      "HR      1\n",
      "CN      1\n",
      "NZ      1\n",
      "HU      1\n",
      "HN      1\n",
      "CH      1\n",
      "Name: count, dtype: int64\n"
     ]
    }
   ],
   "source": [
    "print(data['company_location'].value_counts())"
   ]
  },
  {
   "cell_type": "markdown",
   "metadata": {},
   "source": [
    "**Преимущественно данные взяты из US региона и при анализе они будут преобладающими**"
   ]
  },
  {
   "cell_type": "markdown",
   "metadata": {},
   "source": [
    "**Очистим таблицу от лишней информации:**\n",
    "- Столбец Unnamed: 0 так как порядковый номер не нужен\n",
    "- Столбцы salary и salary_currency так как они дублируются столбцом salary_in_usd\n",
    "- Столбцы employee_residence и company_location так как данные взяты преимущественно из одного региона"
   ]
  },
  {
   "cell_type": "code",
   "execution_count": 8,
   "metadata": {},
   "outputs": [],
   "source": [
    "data = data.drop(['Unnamed: 0','salary','salary_currency', 'employee_residence', 'company_location'], axis=1)"
   ]
  },
  {
   "cell_type": "markdown",
   "metadata": {},
   "source": [
    "**Изменим тип данных столбцу remote_ratio для удобства**"
   ]
  },
  {
   "cell_type": "code",
   "execution_count": 9,
   "metadata": {},
   "outputs": [],
   "source": [
    "data['remote_ratio'] = data['remote_ratio'].replace({\n",
    "    0: 'office',\n",
    "    50: 'hybrid',\n",
    "    100: 'remote'\n",
    "})"
   ]
  },
  {
   "cell_type": "code",
   "execution_count": 10,
   "metadata": {},
   "outputs": [
    {
     "data": {
      "text/html": [
       "<div>\n",
       "<style scoped>\n",
       "    .dataframe tbody tr th:only-of-type {\n",
       "        vertical-align: middle;\n",
       "    }\n",
       "\n",
       "    .dataframe tbody tr th {\n",
       "        vertical-align: top;\n",
       "    }\n",
       "\n",
       "    .dataframe thead th {\n",
       "        text-align: right;\n",
       "    }\n",
       "</style>\n",
       "<table border=\"1\" class=\"dataframe\">\n",
       "  <thead>\n",
       "    <tr style=\"text-align: right;\">\n",
       "      <th></th>\n",
       "      <th>work_year</th>\n",
       "      <th>experience_level</th>\n",
       "      <th>employment_type</th>\n",
       "      <th>job_title</th>\n",
       "      <th>salary_in_usd</th>\n",
       "      <th>remote_ratio</th>\n",
       "      <th>company_size</th>\n",
       "    </tr>\n",
       "  </thead>\n",
       "  <tbody>\n",
       "    <tr>\n",
       "      <th>0</th>\n",
       "      <td>2020</td>\n",
       "      <td>MI</td>\n",
       "      <td>FT</td>\n",
       "      <td>Data Scientist</td>\n",
       "      <td>79833</td>\n",
       "      <td>office</td>\n",
       "      <td>L</td>\n",
       "    </tr>\n",
       "    <tr>\n",
       "      <th>1</th>\n",
       "      <td>2020</td>\n",
       "      <td>SE</td>\n",
       "      <td>FT</td>\n",
       "      <td>Machine Learning Scientist</td>\n",
       "      <td>260000</td>\n",
       "      <td>office</td>\n",
       "      <td>S</td>\n",
       "    </tr>\n",
       "    <tr>\n",
       "      <th>2</th>\n",
       "      <td>2020</td>\n",
       "      <td>SE</td>\n",
       "      <td>FT</td>\n",
       "      <td>Big Data Engineer</td>\n",
       "      <td>109024</td>\n",
       "      <td>hybrid</td>\n",
       "      <td>M</td>\n",
       "    </tr>\n",
       "    <tr>\n",
       "      <th>3</th>\n",
       "      <td>2020</td>\n",
       "      <td>MI</td>\n",
       "      <td>FT</td>\n",
       "      <td>Product Data Analyst</td>\n",
       "      <td>20000</td>\n",
       "      <td>office</td>\n",
       "      <td>S</td>\n",
       "    </tr>\n",
       "    <tr>\n",
       "      <th>4</th>\n",
       "      <td>2020</td>\n",
       "      <td>SE</td>\n",
       "      <td>FT</td>\n",
       "      <td>Machine Learning Engineer</td>\n",
       "      <td>150000</td>\n",
       "      <td>hybrid</td>\n",
       "      <td>L</td>\n",
       "    </tr>\n",
       "  </tbody>\n",
       "</table>\n",
       "</div>"
      ],
      "text/plain": [
       "   work_year experience_level employment_type                   job_title  \\\n",
       "0       2020               MI              FT              Data Scientist   \n",
       "1       2020               SE              FT  Machine Learning Scientist   \n",
       "2       2020               SE              FT           Big Data Engineer   \n",
       "3       2020               MI              FT        Product Data Analyst   \n",
       "4       2020               SE              FT   Machine Learning Engineer   \n",
       "\n",
       "   salary_in_usd remote_ratio company_size  \n",
       "0          79833       office            L  \n",
       "1         260000       office            S  \n",
       "2         109024       hybrid            M  \n",
       "3          20000       office            S  \n",
       "4         150000       hybrid            L  "
      ]
     },
     "metadata": {},
     "output_type": "display_data"
    }
   ],
   "source": [
    "display(data.head(5))"
   ]
  },
  {
   "cell_type": "code",
   "execution_count": 11,
   "metadata": {},
   "outputs": [],
   "source": [
    "# Разобъём таблицу на 3 года для дальнейшего анализа\n",
    "\n",
    "data_2020 = data[data['work_year'] == 2020]\n",
    "data_2021 = data[data['work_year'] == 2021]\n",
    "data_2022 = data[data['work_year'] == 2022]"
   ]
  },
  {
   "cell_type": "markdown",
   "metadata": {},
   "source": [
    "## <center> Визуальный анализ данных"
   ]
  },
  {
   "cell_type": "markdown",
   "metadata": {},
   "source": [
    "**Построим гистограммы и ящики для зарплат по каждому году**"
   ]
  },
  {
   "cell_type": "code",
   "execution_count": 12,
   "metadata": {},
   "outputs": [
    {
     "data": {
      "image/png": "[encoded data removed]",
      "text/plain": [
       "<Figure size 1500x800 with 6 Axes>"
      ]
     },
     "metadata": {},
     "output_type": "display_data"
    }
   ],
   "source": [
    "fig, axes = plt.subplots(2, 3, figsize=(15, 8))\n",
    "\n",
    "# Гистограммы\n",
    "sns.histplot(data_2020['salary_in_usd'], bins=30, ax=axes[0,0], kde=True)\n",
    "axes[0,0].set_ylabel('Человек')\n",
    "\n",
    "sns.histplot(data_2021['salary_in_usd'], bins=30, ax=axes[0,1], kde=True)\n",
    "axes[0,1].set_ylabel('')\n",
    "\n",
    "sns.histplot(data_2022['salary_in_usd'], bins=30, ax=axes[0,2], kde=True)\n",
    "axes[0,2].set_ylabel('')\n",
    "\n",
    "# Ящики с усами\n",
    "sns.boxplot(x=data_2020['salary_in_usd'], ax=axes[1,0], orient='h')\n",
    "\n",
    "sns.boxplot(x=data_2021['salary_in_usd'], ax=axes[1,1], orient='h')\n",
    "\n",
    "sns.boxplot(x=data_2022['salary_in_usd'], ax=axes[1,2], orient='h')\n",
    "\n",
    "# Заголовки и подписи\n",
    "years = [2020, 2021, 2022]\n",
    "for i, year in enumerate(years):\n",
    "    axes[0,i].set_title(f'Распределение зарплат в {year} году')\n",
    "    axes[0,i].set_xlabel('Зарплата в USD (тыс.)')\n",
    "    axes[0,i].set_ylim(0, 40)\n",
    "    axes[0,i].set_xticks(range(0, 700000, 50000))\n",
    "    axes[0,i].set_xticklabels([f'{int(x/1000)}' for x in axes[0,i].get_xticks()])\n",
    "    \n",
    "    axes[1,i].set_title(f'Ящик с усами для {year} года')\n",
    "    axes[1,i].set_xlabel('Зарплата в USD (тыс.)')\n",
    "    axes[1,i].set_xticks(range(0, 700000, 50000))\n",
    "    axes[1,i].set_xticklabels([f'{int(x/1000)}' for x in axes[0,i].get_xticks()])\n",
    "\n",
    "plt.suptitle('Анализ зарплат по годам', fontsize=16)\n",
    "\n",
    "plt.tight_layout()\n",
    "plt.show()"
   ]
  },
  {
   "cell_type": "code",
   "execution_count": 13,
   "metadata": {},
   "outputs": [
    {
     "data": {
      "text/html": [
       "<div>\n",
       "<style scoped>\n",
       "    .dataframe tbody tr th:only-of-type {\n",
       "        vertical-align: middle;\n",
       "    }\n",
       "\n",
       "    .dataframe tbody tr th {\n",
       "        vertical-align: top;\n",
       "    }\n",
       "\n",
       "    .dataframe thead th {\n",
       "        text-align: right;\n",
       "    }\n",
       "</style>\n",
       "<table border=\"1\" class=\"dataframe\">\n",
       "  <thead>\n",
       "    <tr style=\"text-align: right;\">\n",
       "      <th></th>\n",
       "      <th>2020</th>\n",
       "      <th>2021</th>\n",
       "      <th>2022</th>\n",
       "    </tr>\n",
       "  </thead>\n",
       "  <tbody>\n",
       "    <tr>\n",
       "      <th>count</th>\n",
       "      <td>72.0</td>\n",
       "      <td>213.00</td>\n",
       "      <td>318.00</td>\n",
       "    </tr>\n",
       "    <tr>\n",
       "      <th>mean</th>\n",
       "      <td>95813.0</td>\n",
       "      <td>101015.90</td>\n",
       "      <td>124522.01</td>\n",
       "    </tr>\n",
       "    <tr>\n",
       "      <th>std</th>\n",
       "      <td>82831.8</td>\n",
       "      <td>80365.97</td>\n",
       "      <td>58183.65</td>\n",
       "    </tr>\n",
       "    <tr>\n",
       "      <th>min</th>\n",
       "      <td>5707.0</td>\n",
       "      <td>2859.00</td>\n",
       "      <td>10000.00</td>\n",
       "    </tr>\n",
       "    <tr>\n",
       "      <th>25%</th>\n",
       "      <td>45724.5</td>\n",
       "      <td>50000.00</td>\n",
       "      <td>81666.00</td>\n",
       "    </tr>\n",
       "    <tr>\n",
       "      <th>50%</th>\n",
       "      <td>75544.0</td>\n",
       "      <td>82744.00</td>\n",
       "      <td>120000.00</td>\n",
       "    </tr>\n",
       "    <tr>\n",
       "      <th>75%</th>\n",
       "      <td>115526.0</td>\n",
       "      <td>140000.00</td>\n",
       "      <td>160000.00</td>\n",
       "    </tr>\n",
       "    <tr>\n",
       "      <th>max</th>\n",
       "      <td>450000.0</td>\n",
       "      <td>600000.00</td>\n",
       "      <td>405000.00</td>\n",
       "    </tr>\n",
       "  </tbody>\n",
       "</table>\n",
       "</div>"
      ],
      "text/plain": [
       "           2020       2021       2022\n",
       "count      72.0     213.00     318.00\n",
       "mean    95813.0  101015.90  124522.01\n",
       "std     82831.8   80365.97   58183.65\n",
       "min      5707.0    2859.00   10000.00\n",
       "25%     45724.5   50000.00   81666.00\n",
       "50%     75544.0   82744.00  120000.00\n",
       "75%    115526.0  140000.00  160000.00\n",
       "max    450000.0  600000.00  405000.00"
      ]
     },
     "metadata": {},
     "output_type": "display_data"
    }
   ],
   "source": [
    "usd_df = pd.concat([\n",
    "    data_2020['salary_in_usd'].describe().round(2).rename('2020'),\n",
    "    data_2021['salary_in_usd'].describe().round(2).rename('2021'),\n",
    "    data_2022['salary_in_usd'].describe().round(2).rename('2022')\n",
    "], axis=1)\n",
    "\n",
    "display(usd_df)"
   ]
  },
  {
   "cell_type": "markdown",
   "metadata": {},
   "source": [
    "**В заданном промежутке прослеживается постоянный рост зарплат и увеличение количества вакансий**"
   ]
  },
  {
   "cell_type": "markdown",
   "metadata": {},
   "source": [
    "**Визуализация связи зарплаты и опыта**"
   ]
  },
  {
   "cell_type": "code",
   "execution_count": 14,
   "metadata": {},
   "outputs": [
    {
     "data": {
      "image/png": "[encoded data removed]",
      "text/plain": [
       "<Figure size 1500x500 with 3 Axes>"
      ]
     },
     "metadata": {},
     "output_type": "display_data"
    }
   ],
   "source": [
    "fig, axes = plt.subplots(1, 3, figsize=(15, 5))\n",
    "\n",
    "exp_lst = ['EN', 'MI', 'SE', 'EX']\n",
    "\n",
    "sns.boxplot(data_2020, x='salary_in_usd', y='experience_level', ax=axes[0], order=exp_lst)\n",
    "axes[0].set(xlabel='Зарплата', ylabel='Опыт')\n",
    "sns.boxplot(data_2021, x='salary_in_usd', y='experience_level', ax=axes[1], order=exp_lst)\n",
    "axes[1].set(xlabel='', ylabel='')\n",
    "sns.boxplot(data_2022, x='salary_in_usd', y='experience_level', ax=axes[2], order=exp_lst)\n",
    "axes[2].set(xlabel='', ylabel='')\n",
    "\n",
    "years = [2020, 2021, 2022]\n",
    "for i, year in enumerate(years):\n",
    "    axes[i].set_title(f'Ящик с усами для {year} года')\n",
    "    axes[i].set_xlabel('Зарплата в USD (тыс.)')\n",
    "    axes[i].set_xticks(range(0, 700000, 50000))\n",
    "    axes[i].set_xticklabels([f'{int(x/1000)}' for x in axes[i].get_xticks()])\n",
    "\n",
    "plt.suptitle('Зарплата по уровням опыта')\n",
    "\n",
    "plt.tight_layout()\n",
    "plt.show()"
   ]
  },
  {
   "cell_type": "code",
   "execution_count": 15,
   "metadata": {},
   "outputs": [
    {
     "data": {
      "text/html": [
       "<div>\n",
       "<style scoped>\n",
       "    .dataframe tbody tr th:only-of-type {\n",
       "        vertical-align: middle;\n",
       "    }\n",
       "\n",
       "    .dataframe tbody tr th {\n",
       "        vertical-align: top;\n",
       "    }\n",
       "\n",
       "    .dataframe thead th {\n",
       "        text-align: right;\n",
       "    }\n",
       "</style>\n",
       "<table border=\"1\" class=\"dataframe\">\n",
       "  <thead>\n",
       "    <tr style=\"text-align: right;\">\n",
       "      <th>experience_level</th>\n",
       "      <th>EN_2020</th>\n",
       "      <th>EX_2020</th>\n",
       "      <th>MI_2020</th>\n",
       "      <th>SE_2020</th>\n",
       "      <th>EN_2021</th>\n",
       "      <th>EX_2021</th>\n",
       "      <th>MI_2021</th>\n",
       "      <th>SE_2021</th>\n",
       "      <th>EN_2022</th>\n",
       "      <th>EX_2022</th>\n",
       "      <th>MI_2022</th>\n",
       "      <th>SE_2022</th>\n",
       "    </tr>\n",
       "  </thead>\n",
       "  <tbody>\n",
       "    <tr>\n",
       "      <th>count</th>\n",
       "      <td>20.00</td>\n",
       "      <td>2.00</td>\n",
       "      <td>32.00</td>\n",
       "      <td>18.00</td>\n",
       "      <td>45.00</td>\n",
       "      <td>11.00</td>\n",
       "      <td>88.00</td>\n",
       "      <td>69.00</td>\n",
       "      <td>21.00</td>\n",
       "      <td>13.00</td>\n",
       "      <td>91.00</td>\n",
       "      <td>193.0</td>\n",
       "    </tr>\n",
       "    <tr>\n",
       "      <th>mean</th>\n",
       "      <td>63648.60</td>\n",
       "      <td>202416.50</td>\n",
       "      <td>85950.06</td>\n",
       "      <td>137240.50</td>\n",
       "      <td>59374.80</td>\n",
       "      <td>223752.73</td>\n",
       "      <td>86910.26</td>\n",
       "      <td>126596.19</td>\n",
       "      <td>65423.43</td>\n",
       "      <td>178313.85</td>\n",
       "      <td>91193.96</td>\n",
       "      <td>143043.4</td>\n",
       "    </tr>\n",
       "    <tr>\n",
       "      <th>std</th>\n",
       "      <td>56194.74</td>\n",
       "      <td>173359.25</td>\n",
       "      <td>75883.81</td>\n",
       "      <td>91121.24</td>\n",
       "      <td>41016.47</td>\n",
       "      <td>157541.20</td>\n",
       "      <td>74576.26</td>\n",
       "      <td>61449.31</td>\n",
       "      <td>40161.34</td>\n",
       "      <td>65875.08</td>\n",
       "      <td>46387.83</td>\n",
       "      <td>51886.6</td>\n",
       "    </tr>\n",
       "    <tr>\n",
       "      <th>min</th>\n",
       "      <td>5707.00</td>\n",
       "      <td>79833.00</td>\n",
       "      <td>6072.00</td>\n",
       "      <td>33511.00</td>\n",
       "      <td>4000.00</td>\n",
       "      <td>69741.00</td>\n",
       "      <td>2859.00</td>\n",
       "      <td>18907.00</td>\n",
       "      <td>10000.00</td>\n",
       "      <td>79039.00</td>\n",
       "      <td>18442.00</td>\n",
       "      <td>25000.0</td>\n",
       "    </tr>\n",
       "    <tr>\n",
       "      <th>25%</th>\n",
       "      <td>35354.25</td>\n",
       "      <td>141124.75</td>\n",
       "      <td>45152.75</td>\n",
       "      <td>74130.25</td>\n",
       "      <td>24823.00</td>\n",
       "      <td>135936.00</td>\n",
       "      <td>40151.25</td>\n",
       "      <td>79197.00</td>\n",
       "      <td>37300.00</td>\n",
       "      <td>130000.00</td>\n",
       "      <td>56478.50</td>\n",
       "      <td>106260.0</td>\n",
       "    </tr>\n",
       "    <tr>\n",
       "      <th>50%</th>\n",
       "      <td>50294.50</td>\n",
       "      <td>202416.50</td>\n",
       "      <td>75544.00</td>\n",
       "      <td>118552.00</td>\n",
       "      <td>59102.00</td>\n",
       "      <td>153667.00</td>\n",
       "      <td>73500.00</td>\n",
       "      <td>120000.00</td>\n",
       "      <td>52396.00</td>\n",
       "      <td>175000.00</td>\n",
       "      <td>78526.00</td>\n",
       "      <td>138600.0</td>\n",
       "    </tr>\n",
       "    <tr>\n",
       "      <th>75%</th>\n",
       "      <td>76750.00</td>\n",
       "      <td>263708.25</td>\n",
       "      <td>107000.00</td>\n",
       "      <td>178500.00</td>\n",
       "      <td>81000.00</td>\n",
       "      <td>242500.00</td>\n",
       "      <td>110000.00</td>\n",
       "      <td>170000.00</td>\n",
       "      <td>100000.00</td>\n",
       "      <td>216000.00</td>\n",
       "      <td>120000.00</td>\n",
       "      <td>170000.0</td>\n",
       "    </tr>\n",
       "    <tr>\n",
       "      <th>max</th>\n",
       "      <td>250000.00</td>\n",
       "      <td>325000.00</td>\n",
       "      <td>450000.00</td>\n",
       "      <td>412000.00</td>\n",
       "      <td>225000.00</td>\n",
       "      <td>600000.00</td>\n",
       "      <td>450000.00</td>\n",
       "      <td>276000.00</td>\n",
       "      <td>150000.00</td>\n",
       "      <td>324000.00</td>\n",
       "      <td>241000.00</td>\n",
       "      <td>405000.0</td>\n",
       "    </tr>\n",
       "  </tbody>\n",
       "</table>\n",
       "</div>"
      ],
      "text/plain": [
       "experience_level    EN_2020    EX_2020    MI_2020    SE_2020    EN_2021  \\\n",
       "count                 20.00       2.00      32.00      18.00      45.00   \n",
       "mean               63648.60  202416.50   85950.06  137240.50   59374.80   \n",
       "std                56194.74  173359.25   75883.81   91121.24   41016.47   \n",
       "min                 5707.00   79833.00    6072.00   33511.00    4000.00   \n",
       "25%                35354.25  141124.75   45152.75   74130.25   24823.00   \n",
       "50%                50294.50  202416.50   75544.00  118552.00   59102.00   \n",
       "75%                76750.00  263708.25  107000.00  178500.00   81000.00   \n",
       "max               250000.00  325000.00  450000.00  412000.00  225000.00   \n",
       "\n",
       "experience_level    EX_2021    MI_2021    SE_2021    EN_2022    EX_2022  \\\n",
       "count                 11.00      88.00      69.00      21.00      13.00   \n",
       "mean              223752.73   86910.26  126596.19   65423.43  178313.85   \n",
       "std               157541.20   74576.26   61449.31   40161.34   65875.08   \n",
       "min                69741.00    2859.00   18907.00   10000.00   79039.00   \n",
       "25%               135936.00   40151.25   79197.00   37300.00  130000.00   \n",
       "50%               153667.00   73500.00  120000.00   52396.00  175000.00   \n",
       "75%               242500.00  110000.00  170000.00  100000.00  216000.00   \n",
       "max               600000.00  450000.00  276000.00  150000.00  324000.00   \n",
       "\n",
       "experience_level    MI_2022   SE_2022  \n",
       "count                 91.00     193.0  \n",
       "mean               91193.96  143043.4  \n",
       "std                46387.83   51886.6  \n",
       "min                18442.00   25000.0  \n",
       "25%                56478.50  106260.0  \n",
       "50%                78526.00  138600.0  \n",
       "75%               120000.00  170000.0  \n",
       "max               241000.00  405000.0  "
      ]
     },
     "metadata": {},
     "output_type": "display_data"
    }
   ],
   "source": [
    "exp_df = pd.concat([\n",
    "    data_2020.groupby('experience_level')['salary_in_usd'].describe().round(2).T.add_suffix('_2020'),\n",
    "    data_2021.groupby('experience_level')['salary_in_usd'].describe().round(2).T.add_suffix('_2021'),\n",
    "    data_2022.groupby('experience_level')['salary_in_usd'].describe().round(2).T.add_suffix('_2022')\n",
    "], axis=1)\n",
    "\n",
    "display(exp_df)\n"
   ]
  },
  {
   "cell_type": "markdown",
   "metadata": {},
   "source": [
    "**Чем более опытен сотрудник, тем более выше уровень зарплат. К тому же виден общий рост зарплат у всех групп в течении данного периода**"
   ]
  },
  {
   "cell_type": "markdown",
   "metadata": {},
   "source": [
    "**Визуализация Формата работы и размера компании**"
   ]
  },
  {
   "cell_type": "code",
   "execution_count": 16,
   "metadata": {},
   "outputs": [
    {
     "data": {
      "image/png": "[encoded data removed]",
      "text/plain": [
       "<Figure size 800x600 with 2 Axes>"
      ]
     },
     "metadata": {},
     "output_type": "display_data"
    }
   ],
   "source": [
    "cross_tab = pd.crosstab(\n",
    "    index=data['remote_ratio'], \n",
    "    columns=data['company_size'], \n",
    "    rownames=['Формат работы'],\n",
    "    colnames=['Размер компании']\n",
    ")\n",
    "\n",
    "plt.figure(figsize=(8, 6))\n",
    "\n",
    "sns.heatmap(\n",
    "    cross_tab, \n",
    "    annot=True, \n",
    "    fmt='d', \n",
    "    cmap='YlGnBu',\n",
    "    linewidths=0.5\n",
    ")\n",
    "plt.title('Комбинации форматов работы и размеров компаний')\n",
    "plt.show()"
   ]
  },
  {
   "cell_type": "markdown",
   "metadata": {},
   "source": [
    "**Удалённый формат работы оказался самым популярным. Притом средняя компания нанимает больше сотрудников чем большая**"
   ]
  },
  {
   "cell_type": "markdown",
   "metadata": {},
   "source": [
    "**Визуализируем распределение типа занятости**"
   ]
  },
  {
   "cell_type": "code",
   "execution_count": 17,
   "metadata": {},
   "outputs": [
    {
     "data": {
      "image/png": "[encoded data removed]",
      "text/plain": [
       "<Figure size 800x500 with 1 Axes>"
      ]
     },
     "metadata": {},
     "output_type": "display_data"
    }
   ],
   "source": [
    "\n",
    "employment_counts = data['employment_type'].value_counts()\n",
    "\n",
    "plt.figure(figsize=(8, 5))\n",
    "\n",
    "employment_counts.plot(kind='bar', color='skyblue')\n",
    "\n",
    "plt.title('Распределение типов занятости')\n",
    "plt.xlabel('Тип занятости')\n",
    "plt.xticks(rotation=0)\n",
    "plt.ylabel('Количество')\n",
    "plt.bar_label(plt.gca().containers[0], fmt='%d', padding=3)\n",
    "plt.grid(axis='y', linestyle='--')\n",
    "plt.show()"
   ]
  },
  {
   "cell_type": "markdown",
   "metadata": {},
   "source": [
    "**Полный рабочий день самый популярный формат работы, в данной выборке, остальные форматы в сумме занимают около 3% от общего числа**"
   ]
  },
  {
   "cell_type": "markdown",
   "metadata": {},
   "source": [
    "## <center> Статистический анализ данных"
   ]
  },
  {
   "cell_type": "code",
   "execution_count": 18,
   "metadata": {},
   "outputs": [
    {
     "name": "stdout",
     "output_type": "stream",
     "text": [
      "Уровень значимости alpha = 0.05\n"
     ]
    }
   ],
   "source": [
    "# задаём уровень значимости\n",
    "alpha = 0.05 \n",
    "print(\"Уровень значимости alpha = {:.2f}\".format(alpha))"
   ]
  },
  {
   "cell_type": "markdown",
   "metadata": {},
   "source": [
    "### <center> Наблюдается ли ежегодный рост зарплат у специалистов Data Scientist?"
   ]
  },
  {
   "cell_type": "markdown",
   "metadata": {},
   "source": [
    "**Нулевая гипотеза: зарплата не увеличивается или становится меньше**\n",
    "$$ H_0 : μ_1 <= μ_2 <= μ_3$$\n",
    "**Альтернативная гипотиза: каждый год зарплата увеличивается**\n",
    "$$ H_1 : μ_1 > μ_2 > μ_3$$"
   ]
  },
  {
   "cell_type": "markdown",
   "metadata": {},
   "source": [
    "**Проверим распределение и выберем метод оценки**"
   ]
  },
  {
   "cell_type": "code",
   "execution_count": 19,
   "metadata": {},
   "outputs": [
    {
     "name": "stdout",
     "output_type": "stream",
     "text": [
      "P для 2020 года: 0.00\n",
      "P для 2021 года: 0.00\n",
      "P для 2022 года: 0.00\n"
     ]
    }
   ],
   "source": [
    "data_money_2020 = data_2020['salary_in_usd']\n",
    "data_money_2021 = data_2021['salary_in_usd']\n",
    "data_money_2022 = data_2022['salary_in_usd']\n",
    "\n",
    "_, p_2020 = stats.shapiro(data_money_2020)\n",
    "_, p_2021 = stats.shapiro(data_money_2021)\n",
    "_, p_2022 = stats.shapiro(data_money_2022)\n",
    "\n",
    "print(f'P для 2020 года: {p_2020:.2f}')\n",
    "print(f'P для 2021 года: {p_2021:.2f}')\n",
    "print(f'P для 2022 года: {p_2022:.2f}')"
   ]
  },
  {
   "cell_type": "markdown",
   "metadata": {},
   "source": [
    "**Распределение отличается от нормального и количество рассматриваемых групп 3, используем критерий Фридмана**"
   ]
  },
  {
   "cell_type": "code",
   "execution_count": 20,
   "metadata": {},
   "outputs": [
    {
     "name": "stdout",
     "output_type": "stream",
     "text": [
      "p-value = 0.00\n",
      "p-значение меньше, чем заданный уровень значимости 0.05. Отвергаем нулевую гипотезу.\n"
     ]
    }
   ],
   "source": [
    "# Ограничим выборки до минимальной длины, чтобы избежать ошибок в тесте Фридмана\n",
    "min_length = min(len(data_money_2020), len(data_money_2021), len(data_money_2022))\n",
    "\n",
    "data_money_2020 = data_money_2020[:min_length]\n",
    "data_money_2021 = data_money_2021[:min_length]\n",
    "data_money_2022 = data_money_2022[:min_length]\n",
    " \n",
    "_, p = stats.friedmanchisquare(data_money_2020, data_money_2021, data_money_2022)\n",
    "\n",
    "print('p-value = {:.2f}'.format(p))\n",
    "\n",
    "if p < alpha:\n",
    "    print('p-значение меньше, чем заданный уровень значимости {:.2f}. Отвергаем нулевую гипотезу.'.format(alpha))\n",
    "else:\n",
    "    print('p-значение больше, чем заданный уровень значимости {:.2f}. У нас нет оснований отвергнуть нулевую гипотезу.'.format(alpha))"
   ]
  },
  {
   "cell_type": "markdown",
   "metadata": {},
   "source": [
    "**При анализе данной выборки можно судить о увеличении заработной платы в течении заданного срока**"
   ]
  },
  {
   "cell_type": "markdown",
   "metadata": {},
   "source": [
    "### <center>Как соотносятся зарплаты Data Scientist и Data Engineer в 2022 году?\n",
    "\n",
    "**Нулевая гипотеза: Зарплаты DS и DE не различаются статистически значимо.**\n",
    "$$ H_0 : μ_1 = μ_2$$\n",
    "**Альтернативная гипотиза: Зарплаты DS и DE различаются.**\n",
    "$$ H_1 : μ_1 != μ_2$$"
   ]
  },
  {
   "cell_type": "code",
   "execution_count": 21,
   "metadata": {},
   "outputs": [
    {
     "name": "stdout",
     "output_type": "stream",
     "text": [
      "p-value (DS): 0.33\n",
      "p-value (DE): 0.01\n"
     ]
    }
   ],
   "source": [
    "data_ds_de = data_2022[data_2022['job_title'].isin(['Data Scientist', 'Data Engineer'])]\n",
    "\n",
    "data_ds = data_2022[data_2022['job_title'] == 'Data Scientist']\n",
    "data_de = data_2022[data_2022['job_title'] == 'Data Engineer']\n",
    "\n",
    "_, p_ds = stats.shapiro(data_ds['salary_in_usd'])\n",
    "_, p_de = stats.shapiro(data_de['salary_in_usd'])\n",
    "\n",
    "print(f\"p-value (DS): {p_ds:.2f}\")\n",
    "print(f\"p-value (DE): {p_de:.2f}\")"
   ]
  },
  {
   "cell_type": "markdown",
   "metadata": {},
   "source": [
    "**Признак DS распределён нормально, а признак DE нет. Применяем Непараметрический U-тест Манна-Уитни**"
   ]
  },
  {
   "cell_type": "code",
   "execution_count": 22,
   "metadata": {},
   "outputs": [
    {
     "name": "stdout",
     "output_type": "stream",
     "text": [
      "p-value: 0.15\n",
      "p-значение больше, чем заданный уровень значимости 0.05. У нас нет оснований отвергнуть нулевую гипотезу.\n"
     ]
    }
   ],
   "source": [
    "_, p_value = stats.mannwhitneyu(data_ds['salary_in_usd'], data_de['salary_in_usd'])\n",
    "print(f\"p-value: {p_value:.2f}\")\n",
    "\n",
    "if p_value < alpha:\n",
    "    print('p-значение меньше, чем заданный уровень значимости {:.2f}. Отвергаем нулевую гипотезу.'.format(alpha))\n",
    "else:\n",
    "    print('p-значение больше, чем заданный уровень значимости {:.2f}. У нас нет оснований отвергнуть нулевую гипотезу.'.format(alpha))"
   ]
  },
  {
   "cell_type": "markdown",
   "metadata": {},
   "source": [
    "**Нельзя отвергать нулевую гипотезу. Нет оснований заявлять что зарплаты отличаются.**"
   ]
  },
  {
   "cell_type": "markdown",
   "metadata": {},
   "source": [
    "### <center> Как соотносятся зарплаты специалистов Data Scientist в компаниях различных размеров?\n",
    "\n",
    "**Нулевая гипотеза: Зарплаты в фирмах разных размеров одинаковые.**\n",
    "$$ H_0 : μ_1 = μ_2$$\n",
    "**Альтернативная гипотиза: Зарплаты в фирмах разных размеров различаются.**\n",
    "$$ H_1 : μ_1 != μ_2$$"
   ]
  },
  {
   "cell_type": "code",
   "execution_count": 23,
   "metadata": {},
   "outputs": [
    {
     "name": "stdout",
     "output_type": "stream",
     "text": [
      "p-value (S): 0.00\n",
      "p-value (M): 0.00\n",
      "p-value (L): 0.00\n"
     ]
    }
   ],
   "source": [
    "money_s = data[data['company_size'] == 'S']['salary_in_usd']\n",
    "money_m = data[data['company_size'] == 'M']['salary_in_usd']\n",
    "money_l = data[data['company_size'] == 'L']['salary_in_usd']\n",
    "\n",
    "_, p_s = stats.shapiro(money_s)\n",
    "_, p_m = stats.shapiro(money_m)\n",
    "_, p_l = stats.shapiro(money_l)\n",
    "\n",
    "print(f\"p-value (S): {p_s:.2f}\")\n",
    "print(f\"p-value (M): {p_m:.2f}\")\n",
    "print(f\"p-value (L): {p_l:.2f}\")"
   ]
  },
  {
   "cell_type": "markdown",
   "metadata": {},
   "source": [
    "**Признак не распределён по нормальному закону, используем критерий Краскела-Уоллиса**"
   ]
  },
  {
   "cell_type": "code",
   "execution_count": 24,
   "metadata": {},
   "outputs": [
    {
     "name": "stdout",
     "output_type": "stream",
     "text": [
      "p-value: 0.00\n",
      "p-значение меньше, чем заданный уровень значимости 0.05. Отвергаем нулевую гипотезу.\n"
     ]
    }
   ],
   "source": [
    "_, p = stats.kruskal(money_s, money_m, money_l)\n",
    "print(f'p-value: {p:.2f}')\n",
    "\n",
    "if p < alpha:\n",
    "    print('p-значение меньше, чем заданный уровень значимости {:.2f}. Отвергаем нулевую гипотезу.'.format(alpha))\n",
    "else:\n",
    "    print('p-значение больше, чем заданный уровень значимости {:.2f}. У нас нет оснований отвергнуть нулевую гипотезу.'.format(alpha))"
   ]
  },
  {
   "cell_type": "markdown",
   "metadata": {},
   "source": [
    "**Зарплаты в фирмах разного размера отличаются**"
   ]
  },
  {
   "cell_type": "markdown",
   "metadata": {},
   "source": [
    "### <center> Есть ли связь между наличием должностей Data Scientist и Data Engineer и размером компании?\n",
    "\n",
    "**Нулевая гипотеза: Связи должностей и размером компаний есть.**\n",
    "$$ H_0 : μ_1 = μ_2$$\n",
    "**Альтернативная гипотиза: Связи должностей и размером компаний нет.**\n",
    "$$ H_1 : μ_1 != μ_2$$\n"
   ]
  },
  {
   "cell_type": "markdown",
   "metadata": {},
   "source": [
    "**Создадим промежуточную таблицу**"
   ]
  },
  {
   "cell_type": "code",
   "execution_count": 25,
   "metadata": {},
   "outputs": [
    {
     "data": {
      "text/html": [
       "<div>\n",
       "<style scoped>\n",
       "    .dataframe tbody tr th:only-of-type {\n",
       "        vertical-align: middle;\n",
       "    }\n",
       "\n",
       "    .dataframe tbody tr th {\n",
       "        vertical-align: top;\n",
       "    }\n",
       "\n",
       "    .dataframe thead th {\n",
       "        text-align: right;\n",
       "    }\n",
       "</style>\n",
       "<table border=\"1\" class=\"dataframe\">\n",
       "  <thead>\n",
       "    <tr style=\"text-align: right;\">\n",
       "      <th>job_title</th>\n",
       "      <th>Data Engineer</th>\n",
       "      <th>Data Scientist</th>\n",
       "    </tr>\n",
       "    <tr>\n",
       "      <th>company_size</th>\n",
       "      <th></th>\n",
       "      <th></th>\n",
       "    </tr>\n",
       "  </thead>\n",
       "  <tbody>\n",
       "    <tr>\n",
       "      <th>L</th>\n",
       "      <td>35</td>\n",
       "      <td>45</td>\n",
       "    </tr>\n",
       "    <tr>\n",
       "      <th>M</th>\n",
       "      <td>89</td>\n",
       "      <td>77</td>\n",
       "    </tr>\n",
       "    <tr>\n",
       "      <th>S</th>\n",
       "      <td>6</td>\n",
       "      <td>21</td>\n",
       "    </tr>\n",
       "  </tbody>\n",
       "</table>\n",
       "</div>"
      ],
      "text/plain": [
       "job_title     Data Engineer  Data Scientist\n",
       "company_size                               \n",
       "L                        35              45\n",
       "M                        89              77\n",
       "S                         6              21"
      ]
     },
     "metadata": {},
     "output_type": "display_data"
    }
   ],
   "source": [
    "subset = data[data['job_title'].isin(['Data Scientist', 'Data Engineer'])]\n",
    "\n",
    "contingency_table = pd.crosstab(subset['company_size'], subset['job_title'])\n",
    "\n",
    "display(contingency_table)"
   ]
  },
  {
   "cell_type": "markdown",
   "metadata": {},
   "source": [
    "**Проверим зависимость с помощью теста хи квадрат**"
   ]
  },
  {
   "cell_type": "code",
   "execution_count": 26,
   "metadata": {},
   "outputs": [
    {
     "name": "stdout",
     "output_type": "stream",
     "text": [
      "p-value = 0.01\n",
      "p-значение меньше, чем заданный уровень значимости 0.05. Отвергаем нулевую гипотезу.\n"
     ]
    }
   ],
   "source": [
    "chi2, p, dof, expected = stats.chi2_contingency(contingency_table)\n",
    "print(f\"p-value = {p:.2f}\")\n",
    "\n",
    "if p < alpha:\n",
    "    print('p-значение меньше, чем заданный уровень значимости {:.2f}. Отвергаем нулевую гипотезу.'.format(alpha))\n",
    "else:\n",
    "    print('p-значение больше, чем заданный уровень значимости {:.2f}. У нас нет оснований отвергнуть нулевую гипотезу.'.format(alpha))"
   ]
  },
  {
   "cell_type": "markdown",
   "metadata": {},
   "source": [
    "**Нет статистически значимой связи между размером компании и наличием должностей Data Scientist и Data Engineer. Другими словами, размер компании не влияет на то, появляются ли в ней эти должности.**"
   ]
  },
  {
   "cell_type": "markdown",
   "metadata": {},
   "source": [
    "## <center> Дополнительное исследование"
   ]
  },
  {
   "cell_type": "markdown",
   "metadata": {},
   "source": [
    "### <center> Есть ли различия в зарплате в компаниях разных размеров ?\n",
    "\n",
    "**Нулевая гипотеза: Различий в зарплате нет.**\n",
    "$$ H_0 : μ_1 = μ_2 = μ_3$$\n",
    "**Альтернативная гипотиза: Различия в зарплате есть.**\n",
    "$$ H_1 : μ_1 != μ_2 != μ_3$$\n",
    "\n"
   ]
  },
  {
   "cell_type": "code",
   "execution_count": 27,
   "metadata": {},
   "outputs": [],
   "source": [
    "money_s = data[data['company_size'] == 'S']['salary_in_usd']\n",
    "money_m = data[data['company_size'] == 'M']['salary_in_usd']\n",
    "money_l = data[data['company_size'] == 'L']['salary_in_usd']"
   ]
  },
  {
   "cell_type": "code",
   "execution_count": 28,
   "metadata": {},
   "outputs": [
    {
     "data": {
      "image/png": "[encoded data removed]",
      "text/plain": [
       "<Figure size 1500x500 with 3 Axes>"
      ]
     },
     "metadata": {},
     "output_type": "display_data"
    }
   ],
   "source": [
    "fig, axes = plt.subplots(1, 3, figsize=(15, 5))\n",
    "\n",
    "sns.histplot(money_s, bins=30, ax=axes[0], kde=True)\n",
    "axes[0].set_title('Зарплата в малых компаниях')\n",
    "axes[0].set_ylim(0, 40)\n",
    "axes[0].set_ylabel('Количество')\n",
    "axes[0].set_xlabel('Зарплата в USD')\n",
    "\n",
    "sns.histplot(money_m, bins=30, ax=axes[1], kde=True)\n",
    "axes[1].set_title('Зарплата в средних компаниях')\n",
    "axes[1].set_ylim(0, 40)\n",
    "axes[1].set_ylabel('')\n",
    "axes[1].set_xlabel('Зарплата в USD')\n",
    "\n",
    "sns.histplot(money_l, bins=30, ax=axes[2], kde=True)\n",
    "axes[2].set_title('Зарплата в крупных компаниях')\n",
    "axes[2].set_ylim(0, 40)\n",
    "axes[2].set_ylabel('')\n",
    "axes[2].set_xlabel('Зарплата в USD')\n",
    "\n",
    "plt.suptitle('Распределение зарплат по размерам компаний', fontsize=16)\n",
    "\n",
    "plt.tight_layout()\n",
    "plt.show()"
   ]
  },
  {
   "cell_type": "code",
   "execution_count": 29,
   "metadata": {},
   "outputs": [
    {
     "name": "stdout",
     "output_type": "stream",
     "text": [
      "p-value (S): 0.00\n",
      "p-value (M): 0.00\n",
      "p-value (L): 0.00\n"
     ]
    }
   ],
   "source": [
    "_, p_s = stats.shapiro(money_s)\n",
    "_, p_m = stats.shapiro(money_m)\n",
    "_, p_l = stats.shapiro(money_l)\n",
    "\n",
    "print(f\"p-value (S): {p_s:.2f}\")\n",
    "print(f\"p-value (M): {p_m:.2f}\")\n",
    "print(f\"p-value (L): {p_l:.2f}\")"
   ]
  },
  {
   "cell_type": "markdown",
   "metadata": {},
   "source": [
    "**Признак не распределён по нормальному закону, используем Тест Манна-Уитни**"
   ]
  },
  {
   "cell_type": "code",
   "execution_count": 30,
   "metadata": {},
   "outputs": [
    {
     "name": "stdout",
     "output_type": "stream",
     "text": [
      "p-values S vs M: 0.0000\n",
      "p-значение меньше, чем заданный уровень значимости 0.05. Отвергаем нулевую гипотезу.\n",
      "p-values S vs L: 0.0000\n",
      "p-значение меньше, чем заданный уровень значимости 0.05. Отвергаем нулевую гипотезу.\n",
      "p-values M vs L: 0.3349\n",
      "p-значение больше, чем заданный уровень значимости 0.05. У нас нет оснований отвергнуть нулевую гипотезу.\n"
     ]
    }
   ],
   "source": [
    "group_data = {\n",
    "    'S': money_s,\n",
    "    'M': money_m,\n",
    "    'L': money_l\n",
    "}\n",
    "\n",
    "pairs = [('S', 'M'), ('S', 'L'), ('M', 'L')]\n",
    "p_values = []\n",
    "\n",
    "for group1, group2 in pairs:\n",
    "    data1 = group_data[group1]\n",
    "    data2 = group_data[group2]\n",
    "\n",
    "    _, p = stats.mannwhitneyu(data1, data2, alternative='two-sided')\n",
    "    p_values.append(p)\n",
    "    print('p-values {} vs {}: {:.4f}'.format(group1, group2, p))\n",
    "    \n",
    "    if p < alpha:\n",
    "        print('p-значение меньше, чем заданный уровень значимости {:.2f}. Отвергаем нулевую гипотезу.'.format(alpha))\n",
    "    else:\n",
    "        print('p-значение больше, чем заданный уровень значимости {:.2f}. У нас нет оснований отвергнуть нулевую гипотезу.'.format(alpha))"
   ]
  },
  {
   "cell_type": "markdown",
   "metadata": {},
   "source": [
    "**Из теста можно выделить что различия в зарплате между средней и большой компанией менее выражены, чем в сравнении с маленькой**"
   ]
  },
  {
   "cell_type": "markdown",
   "metadata": {},
   "source": [
    "### <center> Меняется ли количество компаний разного размра в 2020 в 2021 и 2022 годах ?\n",
    "\n",
    "**Нулевая гипотеза: Количество не меняется.**\n",
    "$$ H_0 : μ_1 = μ_2 = μ_3$$\n",
    "**Альтернативная гипотиза: Количество отличается.**\n",
    "$$ H_1 : μ_1 != μ_2 != μ_3$$"
   ]
  },
  {
   "cell_type": "code",
   "execution_count": 31,
   "metadata": {},
   "outputs": [
    {
     "data": {
      "text/html": [
       "<div>\n",
       "<style scoped>\n",
       "    .dataframe tbody tr th:only-of-type {\n",
       "        vertical-align: middle;\n",
       "    }\n",
       "\n",
       "    .dataframe tbody tr th {\n",
       "        vertical-align: top;\n",
       "    }\n",
       "\n",
       "    .dataframe thead th {\n",
       "        text-align: right;\n",
       "    }\n",
       "</style>\n",
       "<table border=\"1\" class=\"dataframe\">\n",
       "  <thead>\n",
       "    <tr style=\"text-align: right;\">\n",
       "      <th>company_size</th>\n",
       "      <th>L</th>\n",
       "      <th>M</th>\n",
       "      <th>S</th>\n",
       "    </tr>\n",
       "    <tr>\n",
       "      <th>work_year</th>\n",
       "      <th></th>\n",
       "      <th></th>\n",
       "      <th></th>\n",
       "    </tr>\n",
       "  </thead>\n",
       "  <tbody>\n",
       "    <tr>\n",
       "      <th>2020</th>\n",
       "      <td>33</td>\n",
       "      <td>14</td>\n",
       "      <td>25</td>\n",
       "    </tr>\n",
       "    <tr>\n",
       "      <th>2021</th>\n",
       "      <td>115</td>\n",
       "      <td>53</td>\n",
       "      <td>45</td>\n",
       "    </tr>\n",
       "    <tr>\n",
       "      <th>2022</th>\n",
       "      <td>46</td>\n",
       "      <td>259</td>\n",
       "      <td>13</td>\n",
       "    </tr>\n",
       "  </tbody>\n",
       "</table>\n",
       "</div>"
      ],
      "text/plain": [
       "company_size    L    M   S\n",
       "work_year                 \n",
       "2020           33   14  25\n",
       "2021          115   53  45\n",
       "2022           46  259  13"
      ]
     },
     "metadata": {},
     "output_type": "display_data"
    }
   ],
   "source": [
    "# Создадим промежуточную таблицу с годом и количеством компаний\n",
    "company_counts = data.groupby(['work_year', 'company_size']).size().unstack().fillna(0)\n",
    "display(company_counts.head())"
   ]
  },
  {
   "cell_type": "markdown",
   "metadata": {},
   "source": [
    "**Визуализация данных**"
   ]
  },
  {
   "cell_type": "code",
   "execution_count": 32,
   "metadata": {},
   "outputs": [
    {
     "data": {
      "image/png": "[encoded data removed]",
      "text/plain": [
       "<Figure size 800x600 with 1 Axes>"
      ]
     },
     "metadata": {},
     "output_type": "display_data"
    }
   ],
   "source": [
    "company_counts.plot(kind='bar', stacked=True, figsize=(8,6), colormap='viridis')\n",
    "\n",
    "plt.title('Распределение компаний по размерам в 2020–2022 гг.')\n",
    "plt.xlabel('Год')\n",
    "plt.ylabel('Количество')\n",
    "plt.xticks(rotation=0)\n",
    "plt.legend(title='Размер компании')\n",
    "\n",
    "plt.tight_layout()\n",
    "plt.show()"
   ]
  },
  {
   "cell_type": "markdown",
   "metadata": {},
   "source": [
    "**Используем тест хи квадрат**"
   ]
  },
  {
   "cell_type": "code",
   "execution_count": 33,
   "metadata": {},
   "outputs": [
    {
     "name": "stdout",
     "output_type": "stream",
     "text": [
      "p-value: 0.00\n",
      "p-значение меньше, чем заданный уровень значимости 0.05. Отвергаем нулевую гипотезу.\n"
     ]
    }
   ],
   "source": [
    "chi2, p, dof, expected = stats.chi2_contingency(company_counts)\n",
    "\n",
    "print(f\"p-value: {p:.2f}\")\n",
    "\n",
    "if p < alpha:\n",
    "    print('p-значение меньше, чем заданный уровень значимости {:.2f}. Отвергаем нулевую гипотезу.'.format(alpha))\n",
    "else:\n",
    "    print('p-значение больше, чем заданный уровень значимости {:.2f}. У нас нет оснований отвергнуть нулевую гипотезу.'.format(alpha))"
   ]
  },
  {
   "cell_type": "markdown",
   "metadata": {},
   "source": [
    "**В выборке прослеживается рост количества компаний, но в 22 году увеличилось число средних компаний и уменьшилось больших. Возможно это связано с кризисом и реструкторизацией больших фирм на меньшие количество малых компаниий тоже стало меньше скорее всего они перешли в разряд средних**"
   ]
  },
  {
   "cell_type": "markdown",
   "metadata": {},
   "source": [
    "## <center> Вывод\n",
    "\n",
    "**В зарплатах DS прослеживается постоянный рост и увеличение количество вакансий. Также установлено, что уровень зарплаты напрямую зависит от опыта: чем больше опыт, тем выше заработная плата. Удалённая работа оказалась наиболее популярным форматом, а зарплаты в средних компаниях выше, чем в крупных, и именно в средние компании набирают больше сотрудников. Полная занятость преобладает среди типов занятости. При этом размер компании не оказывает значимого влияния на наличие должностей Data Scientist и Data Engineer. В 22 году значительно увеличилось количество средних компаний, а количество крупных уменьшилось. Возможно, это связано с кризисом, из-за которого крупные компании начали делиться на более мелкие структуры, что привело к росту числа вакансий.**"
   ]
  }
 ],
 "metadata": {
  "kernelspec": {
   "display_name": "Python 3",
   "language": "python",
   "name": "python3"
  },
  "language_info": {
   "codemirror_mode": {
    "name": "ipython",
    "version": 3
   },
   "file_extension": ".py",
   "mimetype": "text/x-python",
   "name": "python",
   "nbconvert_exporter": "python",
   "pygments_lexer": "ipython3",
   "version": "3.13.1"
  }
 },
 "nbformat": 4,
 "nbformat_minor": 0
}
