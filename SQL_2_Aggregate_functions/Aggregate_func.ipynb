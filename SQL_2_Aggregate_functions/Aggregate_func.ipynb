{
 "cells": [
  {
   "cell_type": "markdown",
   "metadata": {},
   "source": [
    "Примечание. Как и в предыдущем модуле, вы можете посмотреть подробный разбор структуры предлагаемых запросов во вкладке Детализация."
   ]
  },
  {
   "cell_type": "code",
   "execution_count": null,
   "metadata": {
    "vscode": {
     "languageId": "sql"
    }
   },
   "outputs": [],
   "source": [
    "SELECT\n",
    "    type1\n",
    "FROM sql.pokemon"
   ]
  },
  {
   "cell_type": "markdown",
   "metadata": {},
   "source": [
    "Чтобы получить уникальные значения из столбца, воспользуемся ключевым словом DISTINCT."
   ]
  },
  {
   "cell_type": "code",
   "execution_count": null,
   "metadata": {
    "vscode": {
     "languageId": "sql"
    }
   },
   "outputs": [],
   "source": [
    "SELECT DISTINCT\n",
    "    type1\n",
    "FROM sql.pokemon"
   ]
  },
  {
   "cell_type": "markdown",
   "metadata": {},
   "source": [
    "Получим, например, все уникальные пары основного и дополнительного типов для покемонов."
   ]
  },
  {
   "cell_type": "code",
   "execution_count": null,
   "metadata": {
    "vscode": {
     "languageId": "sql"
    }
   },
   "outputs": [],
   "source": [
    "SELECT DISTINCT\n",
    "    type1,\n",
    "    type2\n",
    "FROM sql.pokemon"
   ]
  },
  {
   "cell_type": "markdown",
   "metadata": {},
   "source": [
    "Давайте посчитаем количество строк в таблице. Для этого применим агрегатную функцию COUNT."
   ]
  },
  {
   "cell_type": "code",
   "execution_count": null,
   "metadata": {
    "vscode": {
     "languageId": "sql"
    }
   },
   "outputs": [],
   "source": [
    "SELECT\n",
    "    COUNT(*)\n",
    "FROM sql.pokemon"
   ]
  },
  {
   "cell_type": "markdown",
   "metadata": {},
   "source": [
    "Внутри функции COUNT мы можем также применять DISTINCT, чтобы вычислить количество уникальных значений."
   ]
  },
  {
   "cell_type": "code",
   "execution_count": null,
   "metadata": {
    "vscode": {
     "languageId": "sql"
    }
   },
   "outputs": [],
   "source": [
    "SELECT\n",
    "    COUNT(DISTINCT type1)\n",
    "FROM sql.pokemon"
   ]
  },
  {
   "cell_type": "markdown",
   "metadata": {},
   "source": [
    "Назовём основные агрегатные функции, с которыми нам предстоит работать:\n",
    "```\n",
    "- COUNT — вычисляет число непустых строк;\n",
    "- SUM — вычисляет сумму;\n",
    "- AVG — вычисляет среднее;\n",
    "- MAX — вычисляет максимум;\n",
    "- MIN — вычисляет минимум.\n",
    "```"
   ]
  },
  {
   "cell_type": "markdown",
   "metadata": {},
   "source": [
    "Какое среднее количество очков здоровья у покемонов-драконов (то есть тех, у кого основной тип — Dragon)?"
   ]
  },
  {
   "cell_type": "code",
   "execution_count": null,
   "metadata": {
    "vscode": {
     "languageId": "sql"
    }
   },
   "outputs": [],
   "source": [
    "SELECT AVG(hp)\n",
    "FROM sql.pokemon\n",
    "WHERE type1 = 'Dragon'"
   ]
  },
  {
   "cell_type": "markdown",
   "metadata": {},
   "source": [
    "Кроме того, мы можем применять несколько агрегатных функций в одном запросе."
   ]
  },
  {
   "cell_type": "code",
   "execution_count": null,
   "metadata": {
    "vscode": {
     "languageId": "sql"
    }
   },
   "outputs": [],
   "source": [
    "SELECT\n",
    "    COUNT(*) AS \"всего травяных покемонов\",\n",
    "    COUNT(type2) AS \"покемонов с дополнительным типом\",\n",
    "    AVG(attack) AS \"средняя атака\",\n",
    "    AVG(defense) AS \"средняя защита\"\n",
    "FROM sql.pokemon\n",
    "WHERE type1 = 'Grass'"
   ]
  },
  {
   "attachments": {
    "image.png": {
     "image/png": "[encoded data removed]"
    }
   },
   "cell_type": "markdown",
   "metadata": {},
   "source": [
    "![image.png](attachment:image.png)"
   ]
  },
  {
   "cell_type": "markdown",
   "metadata": {},
   "source": [
    "Напишите запрос, который выведет:\n",
    "\n",
    "- количество покемонов (столбец pokemon_count),\n",
    "- среднюю скорость (столбец avg_speed),\n",
    "- максимальное и минимальное число очков здоровья (столбцы max_hp и min_hp)\n",
    "\n",
    "для электрических (Electric) покемонов, имеющих дополнительный тип и показатели атаки или защиты больше 50."
   ]
  },
  {
   "cell_type": "code",
   "execution_count": null,
   "metadata": {
    "vscode": {
     "languageId": "sql"
    }
   },
   "outputs": [],
   "source": [
    "SELECT\n",
    "    COUNT(*) AS pokemon_count,\n",
    "    AVG(speed) AS avg_speed,\n",
    "    MAX(hp) AS max_hp,\n",
    "    MIN(hp) AS min_hp\n",
    "FROM sql.pokemon\n",
    "WHERE type1 = 'Electric'\n",
    "    AND type2 IS NOT NULL\n",
    "    AND (attack > 50 OR defense > 50)"
   ]
  },
  {
   "cell_type": "markdown",
   "metadata": {},
   "source": [
    "GROUP BY используется для определения групп выходных строк, к которым могут применяться агрегатные функции."
   ]
  },
  {
   "cell_type": "code",
   "execution_count": null,
   "metadata": {
    "vscode": {
     "languageId": "sql"
    }
   },
   "outputs": [],
   "source": [
    "SELECT\n",
    "    type1 AS pokemon_type,\n",
    "    COUNT(*) AS pokemon_count\n",
    "FROM sql.pokemon\n",
    "GROUP BY type1\n",
    "ORDER BY type1"
   ]
  },
  {
   "cell_type": "markdown",
   "metadata": {},
   "source": [
    "Представим ТОП существующих типов покемонов."
   ]
  },
  {
   "cell_type": "code",
   "execution_count": null,
   "metadata": {
    "vscode": {
     "languageId": "sql"
    }
   },
   "outputs": [],
   "source": [
    "SELECT\n",
    "    type1 AS pokemon_type,\n",
    "    COUNT(*) AS pokemon_count\n",
    "FROM sql.pokemon\n",
    "GROUP BY pokemon_type\n",
    "ORDER BY COUNT(*) DESC"
   ]
  },
  {
   "cell_type": "markdown",
   "metadata": {},
   "source": [
    "Мы можем осуществлять группировку по нескольким столбцам."
   ]
  },
  {
   "cell_type": "code",
   "execution_count": null,
   "metadata": {
    "vscode": {
     "languageId": "sql"
    }
   },
   "outputs": [],
   "source": [
    "SELECT\n",
    "    type1 AS primary_type,\n",
    "    type2 AS additional_type,\n",
    "    COUNT(*) AS pokemon_count\n",
    "FROM sql.pokemon\n",
    "GROUP BY 1, 2\n",
    "ORDER BY 1, 2 NULLS FIRST"
   ]
  },
  {
   "cell_type": "markdown",
   "metadata": {},
   "source": [
    "Если ключевое слово WHERE определяет фильтрацию строк до агрегирования, то для фильтрации уже агрегированных данных применяется ключевое слово HAVING."
   ]
  },
  {
   "cell_type": "code",
   "execution_count": null,
   "metadata": {
    "vscode": {
     "languageId": "sql"
    }
   },
   "outputs": [],
   "source": [
    "SELECT\n",
    "    type1 AS primary_type,\n",
    "    AVG(attack) AS avg_attack\n",
    "FROM sql.pokemon\n",
    "GROUP BY primary_type \n",
    "HAVING AVG(attack) > 90"
   ]
  },
  {
   "cell_type": "markdown",
   "metadata": {},
   "source": [
    "В общем виде синтаксис оператора SELECT, с учётом имеющихся на данный момент знаний, представляем следующим образом:\n",
    "\n",
    "Обратите внимание! В квадратных скобках указаны необязательные предложения: они могут отсутствовать в операторе SELECT."
   ]
  },
  {
   "cell_type": "code",
   "execution_count": null,
   "metadata": {
    "vscode": {
     "languageId": "sql"
    }
   },
   "outputs": [],
   "source": [
    "SELECT [ALL | DISTINCT] список_столбцов|*\n",
    "FROM список_имён_таблиц\n",
    "[WHERE условие_поиска]\n",
    "[GROUP BY список_имён_столбцов]\n",
    "[HAVING условие_поиска]\n",
    "[ORDER BY имя_столбца [ASC | DESC],…]"
   ]
  },
  {
   "cell_type": "markdown",
   "metadata": {},
   "source": [
    "Напишите запрос, который выведет основной и дополнительный типы покемонов (столбцы primary_type и additional_type) для тех, у кого средний показатель атаки больше 100 и максимальный показатель очков здоровья меньше 80."
   ]
  },
  {
   "cell_type": "code",
   "execution_count": null,
   "metadata": {
    "vscode": {
     "languageId": "sql"
    }
   },
   "outputs": [],
   "source": [
    "SELECT \n",
    "    type1 AS primary_type, \n",
    "    type2 AS additional_type\n",
    "FROM sql.pokemon\n",
    "GROUP BY type1, type2\n",
    "HAVING AVG(attack) > 100 AND MAX(hp) < 80"
   ]
  },
  {
   "cell_type": "markdown",
   "metadata": {},
   "source": [
    "Напишите запрос, чтобы для покемонов, чьё имя (name) начинается с S, вывести столбцы с их основным типом (primary_type) и общим числом покемонов этого типа (pokemon_count). Оставьте только те типы, у которых средний показатель защиты больше 80. Выведите топ-3 типов по числу покемонов в них."
   ]
  },
  {
   "cell_type": "code",
   "execution_count": null,
   "metadata": {
    "vscode": {
     "languageId": "sql"
    }
   },
   "outputs": [],
   "source": [
    "SELECT \n",
    "    type1 AS primary_type,\n",
    "    COUNT(*) AS pokemon_count\n",
    "FROM sql.pokemon\n",
    "WHERE name LIKE 'S%' \n",
    "GROUP BY type1\n",
    "HAVING AVG(defense) > 80\n",
    "ORDER BY pokemon_count DESC\n",
    "LIMIT 3;"
   ]
  },
  {
   "cell_type": "markdown",
   "metadata": {},
   "source": [
    "Сколько различных значений показателей атаки есть у покемонов с типом Water (основным или дополнительным)?"
   ]
  },
  {
   "cell_type": "code",
   "execution_count": null,
   "metadata": {
    "vscode": {
     "languageId": "sql"
    }
   },
   "outputs": [],
   "source": [
    "SELECT COUNT(DISTINCT attack) AS unique_attack_values\n",
    "FROM sql.pokemon\n",
    "WHERE \n",
    "    type1 = 'Water'\n",
    "    OR type2 = 'Water'"
   ]
  },
  {
   "cell_type": "markdown",
   "metadata": {},
   "source": [
    "Напишите запрос, который выведет основной и дополнительный типы покемонов и средние значения по каждому показателю (столбцы avg_hp, avg_attack, avg_defense, avg_speed).Оставьте только те пары типов, у которых сумма этих четырёх показателей более 400."
   ]
  },
  {
   "cell_type": "code",
   "execution_count": null,
   "metadata": {
    "vscode": {
     "languageId": "sql"
    }
   },
   "outputs": [],
   "source": [
    "SELECT \n",
    "    type1 AS primary_type,\n",
    "    type2 AS additional_type,\n",
    "    AVG(hp) AS avg_hp,\n",
    "    AVG(attack) AS avg_attack,\n",
    "    AVG(defense) AS avg_defense,\n",
    "    AVG(speed) AS avg_speed\n",
    "FROM sql.pokemon\n",
    "GROUP BY type1, type2\n",
    "HAVING (AVG(hp) + AVG(attack) + AVG(defense) + AVG(speed)) > 400"
   ]
  },
  {
   "cell_type": "markdown",
   "metadata": {},
   "source": [
    "Напишите запрос, который выведет столбцы с основным типом покемона и общим количеством покемонов этого типа. Учитывайте только тех покемонов, у кого или показатель атаки, или показатель защиты принимает значение между 50 и 100 включительно. Оставьте только те типы покемонов, у которых максимальный показатель здоровья не больше 125. Выведите только тот тип, который находится на пятом месте по количеству покемонов."
   ]
  },
  {
   "cell_type": "code",
   "execution_count": null,
   "metadata": {
    "vscode": {
     "languageId": "sql"
    }
   },
   "outputs": [],
   "source": [
    "SELECT \n",
    "    type1 AS primary_type,\n",
    "    COUNT(*) AS pokemon_count\n",
    "FROM sql.pokemon\n",
    "WHERE (attack BETWEEN 50 AND 100 OR defense BETWEEN 50 AND 100)\n",
    "GROUP BY type1\n",
    "HAVING MAX(hp) <= 125\n",
    "ORDER BY pokemon_count DESC\n",
    "LIMIT 1 OFFSET 4;"
   ]
  }
 ],
 "metadata": {
  "language_info": {
   "name": "python"
  }
 },
 "nbformat": 4,
 "nbformat_minor": 2
}
