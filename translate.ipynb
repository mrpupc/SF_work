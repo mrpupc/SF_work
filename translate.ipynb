{
 "cells": [
  {
   "cell_type": "code",
   "execution_count": 1,
   "metadata": {},
   "outputs": [
    {
     "name": "stdout",
     "output_type": "stream",
     "text": [
      "           city_ru           city_en\n",
      "0           Москва            Moscow\n",
      "1  Санкт-Петербург  Saint Petersburg\n",
      "2      Новосибирск       Novosibirsk\n",
      "3     Екатеринбург     Yekaterinburg\n",
      "4           Казань             Kazan\n"
     ]
    }
   ],
   "source": [
    "from deep_translator import GoogleTranslator\n",
    "import pandas as pd\n",
    "\n",
    "# Инициализация переводчика (русский → английский)\n",
    "translator = GoogleTranslator(source=\"ru\", target=\"en\")\n",
    "\n",
    "# Функция перевода названия города\n",
    "def translate_city(city):\n",
    "    return translator.translate(city)\n",
    "\n",
    "# Пример списка городов\n",
    "cities = [\"Москва\", \"Санкт-Петербург\", \"Новосибирск\", \"Екатеринбург\", \"Казань\"]\n",
    "\n",
    "# Создаем DataFrame\n",
    "df = pd.DataFrame(cities, columns=[\"city_ru\"])\n",
    "df[\"city_en\"] = df[\"city_ru\"].apply(translate_city)\n",
    "\n",
    "print(df)"
   ]
  },
  {
   "cell_type": "code",
   "execution_count": null,
   "metadata": {},
   "outputs": [],
   "source": [
    "from deep_translator import GoogleTranslator\n",
    "import pandas as pd\n",
    "\n",
    "# Инициализируем переводчик\n",
    "translator_ru_to_en = GoogleTranslator(source=\"ru\", target=\"en\")\n",
    "translator_en_to_ru = GoogleTranslator(source=\"en\", target=\"ru\")\n",
    "\n",
    "# Загружаем данные о вакансиях (на русском)\n",
    "vacancy_data = pd.read_csv(\"vacancies.csv\")\n",
    "\n",
    "# Переводим названия городов с русского на английский\n",
    "vacancy_data[\"city_en\"] = vacancy_data[\"city_ru\"].apply(translator_ru_to_en.translate)\n",
    "\n",
    "# Загружаем базу данных с координатами (на английском)\n",
    "geo_data = pd.read_csv(\"world_cities.csv\")\n",
    "\n",
    "# Объединяем данные по английским названиям\n",
    "merged_data = vacancy_data.merge(geo_data, left_on=\"city_en\", right_on=\"city\", how=\"left\")\n",
    "\n",
    "# Переводим обратно с английского на русский\n",
    "merged_data[\"city_ru\"] = merged_data[\"city_en\"].apply(translator_en_to_ru.translate)\n",
    "\n",
    "# Сохраняем результат\n",
    "merged_data.to_csv(\"vacancies_with_coords.csv\", index=False)\n",
    "\n",
    "print(\"Готово! Теперь у вас есть координаты и названия на русском.\")"
   ]
  }
 ],
 "metadata": {
  "kernelspec": {
   "display_name": "Python 3",
   "language": "python",
   "name": "python3"
  },
  "language_info": {
   "codemirror_mode": {
    "name": "ipython",
    "version": 3
   },
   "file_extension": ".py",
   "mimetype": "text/x-python",
   "name": "python",
   "nbconvert_exporter": "python",
   "pygments_lexer": "ipython3",
   "version": "3.13.1"
  }
 },
 "nbformat": 4,
 "nbformat_minor": 2
}
